{
  "cells": [
    {
      "cell_type": "markdown",
      "source": [
        "# Kelompok 3\n",
        "- Astrid Risa Widiana (2241720250)\n",
        "- Muhammad Nurul Mustofa (2241720022)\n",
        "- Tirta Nurrochman Bintang Prawira (2241720045)\n",
        "- Yogianna Nur Febrianti (2241720261)"
      ],
      "metadata": {
        "id": "LDr803Aqn8YO"
      }
    },
    {
      "cell_type": "markdown",
      "metadata": {
        "id": "PzQZll2NaK6z"
      },
      "source": [
        "# **Job Sheet 10 : Recurrent Neural Network (RNN)**"
      ]
    },
    {
      "cell_type": "code",
      "source": [
        "from google.colab import drive\n",
        "drive.mount('/content/drive')"
      ],
      "metadata": {
        "colab": {
          "base_uri": "https://localhost:8080/"
        },
        "id": "-KV-1sJxtHmO",
        "outputId": "363fd1b6-9a05-405e-fd51-0f8578ebbadc"
      },
      "execution_count": null,
      "outputs": [
        {
          "output_type": "stream",
          "name": "stdout",
          "text": [
            "Mounted at /content/drive\n"
          ]
        }
      ]
    },
    {
      "cell_type": "markdown",
      "metadata": {
        "id": "6rPp-EMbaK62"
      },
      "source": [
        "# Praktikum 1 RNN untuk Analisis Sentimen"
      ]
    },
    {
      "cell_type": "markdown",
      "metadata": {
        "id": "fAgeytx0aK62"
      },
      "source": [
        "### **Setup**\n",
        "Impor matplotlib dan buat fungsi pembantu untuk memplot grafik:"
      ]
    },
    {
      "cell_type": "code",
      "execution_count": null,
      "metadata": {
        "id": "EEKR5Dc9aK63"
      },
      "outputs": [],
      "source": [
        "import numpy as np\n",
        "import tensorflow_datasets as tfds\n",
        "import tensorflow as tf\n",
        "\n",
        "tfds.disable_progress_bar()"
      ]
    },
    {
      "cell_type": "markdown",
      "source": [
        "Kode di atas mengimpor tiga pustaka: `numpy` untuk operasi numerik, `tensorflow_datasets` untuk mengakses kumpulan data pra-proses, dan `tensorflow` untuk membangun serta melatih model machine learning. Baris terakhir, `tfds.disable_progress_bar()`, menonaktifkan tampilan bar progres saat memuat data dari `tensorflow_datasets`, sehingga output tampak lebih ringkas saat dijalankan."
      ],
      "metadata": {
        "id": "vmd2vWfYrxdE"
      }
    },
    {
      "cell_type": "code",
      "execution_count": null,
      "metadata": {
        "id": "Azvzanm0aK64"
      },
      "outputs": [],
      "source": [
        "import matplotlib.pyplot as plt\n",
        "\n",
        "def plot_graphs(history, metric):\n",
        "     plt.plot(history.history[metric])\n",
        "     plt.plot(history.history['val_'+metric], '')\n",
        "     plt.xlabel(\"Epochs\")\n",
        "     plt.ylabel(metric)\n",
        "     plt.legend([metric, 'val_'+metric])"
      ]
    },
    {
      "cell_type": "markdown",
      "source": [
        "Kode ini mendefinisikan fungsi `plot_graphs`, yang digunakan untuk membuat grafik metrik kinerja model selama pelatihan, seperti akurasi atau loss. Fungsi ini menerima `history` (objek hasil pelatihan model) dan `metric` (nama metrik yang akan ditampilkan). Fungsi akan menampilkan grafik metrik pada data pelatihan dan validasi berdasarkan jumlah epoch, dengan label dan legenda untuk membedakan kedua garis tersebut."
      ],
      "metadata": {
        "id": "Lu77OPrKr1Ly"
      }
    },
    {
      "cell_type": "markdown",
      "source": [
        "# Setup input pipeline"
      ],
      "metadata": {
        "id": "xzyqtAW5r_dA"
      }
    },
    {
      "cell_type": "code",
      "execution_count": null,
      "metadata": {
        "colab": {
          "base_uri": "https://localhost:8080/"
        },
        "id": "ghb9-18GaK65",
        "outputId": "221ece04-b8dd-4626-c49c-2dd4eb2b8a77"
      },
      "outputs": [
        {
          "output_type": "stream",
          "name": "stdout",
          "text": [
            "Downloading and preparing dataset 80.23 MiB (download: 80.23 MiB, generated: Unknown size, total: 80.23 MiB) to /root/tensorflow_datasets/imdb_reviews/plain_text/1.0.0...\n",
            "Dataset imdb_reviews downloaded and prepared to /root/tensorflow_datasets/imdb_reviews/plain_text/1.0.0. Subsequent calls will reuse this data.\n"
          ]
        },
        {
          "output_type": "execute_result",
          "data": {
            "text/plain": [
              "(TensorSpec(shape=(), dtype=tf.string, name=None),\n",
              " TensorSpec(shape=(), dtype=tf.int64, name=None))"
            ]
          },
          "metadata": {},
          "execution_count": 5
        }
      ],
      "source": [
        "dataset, info = tfds.load('imdb_reviews', with_info=True,\n",
        "                          as_supervised=True)\n",
        "train_dataset, test_dataset = dataset['train'], dataset['test']\n",
        "\n",
        "train_dataset.element_spec"
      ]
    },
    {
      "cell_type": "markdown",
      "source": [
        "Kode ini memuat dataset ulasan IMDb menggunakan `tfds.load` dari pustaka `tensorflow_datasets`, dengan parameter `with_info=True` untuk menyertakan informasi dataset dan `as_supervised=True` agar data diformat dalam pasangan (input, label). Variabel `train_dataset` dan `test_dataset` memisahkan data pelatihan dan pengujian. Baris `train_dataset.element_spec` menampilkan spesifikasi elemen data, menunjukkan bahwa inputnya berupa teks (`tf.string`), dan labelnya berupa nilai numerik (`tf.int64`)."
      ],
      "metadata": {
        "id": "HWuAjw9jsZoI"
      }
    },
    {
      "cell_type": "code",
      "execution_count": null,
      "metadata": {
        "colab": {
          "base_uri": "https://localhost:8080/"
        },
        "id": "Dp3lPExUaK66",
        "outputId": "d05db3d9-87d2-4311-e077-398be353f22b"
      },
      "outputs": [
        {
          "output_type": "stream",
          "name": "stdout",
          "text": [
            "text:  b\"This was an absolutely terrible movie. Don't be lured in by Christopher Walken or Michael Ironside. Both are great actors, but this must simply be their worst role in history. Even their great acting could not redeem this movie's ridiculous storyline. This movie is an early nineties US propaganda piece. The most pathetic scenes were those when the Columbian rebels were making their cases for revolutions. Maria Conchita Alonso appeared phony, and her pseudo-love affair with Walken was nothing but a pathetic emotional plug in a movie that was devoid of any real meaning. I am disappointed that there are movies like this, ruining actor's like Christopher Walken's good name. I could barely sit through it.\"\n",
            "label:  0\n"
          ]
        }
      ],
      "source": [
        "for example, label in train_dataset.take(1):\n",
        "  print('text: ', example.numpy())\n",
        "  print('label: ', label.numpy())"
      ]
    },
    {
      "cell_type": "markdown",
      "source": [
        "Kode ini mengambil satu contoh dari `train_dataset` dan mencetak teks serta labelnya. Dalam loop, `example.numpy()` mengonversi teks ulasan menjadi string yang dapat dibaca, sedangkan `label.numpy()` menampilkan label numeriknya, di mana `0` menunjukkan ulasan negatif dan `1` menunjukkan ulasan positif. Contoh yang dicetak menggambarkan teks ulasan film yang negatif."
      ],
      "metadata": {
        "id": "TyCo6LiWsjKT"
      }
    },
    {
      "cell_type": "code",
      "execution_count": null,
      "metadata": {
        "colab": {
          "base_uri": "https://localhost:8080/"
        },
        "id": "ncs_K_I3aK67",
        "outputId": "3f184177-42cb-4b65-a5fc-86d9b659d2fd"
      },
      "outputs": [
        {
          "output_type": "stream",
          "name": "stdout",
          "text": [
            "texts:  [b'Anthony Mann\\'s westerns with Jimmy Stewart are slowly gaining for that director a position with John Ford and Howard Hawks as the best film director in that genre. He certainly knows how to give dimension to nice guy Stewart - in Mann\\'s films there is an edge to Jimmy that is slowly demonstrated to the audience. In WINCHESTER \\'73 it was the relationship of Stewart to his brother and how it twists him into a figure of vengeance. Here it is a \"I trust only myself\" attitude, which leads to one complication after another. Even before the film properly begins he (as Jeff Webster) kills two of his hired cowboys who were helping on a cattle drive to Seattle because of some dispute (we never are clear about it - either they wanted to leave the cattle drive, or they tried to steal the cattle). <br /><br />He meets his match in Skagway, the port he has to get to in order to take his herd to Dawson. Skagway\\'s boss is a so-called law man named Gannon (John McIntyre) who reminds one of the real boss of Skagway in the \"Gold Rush\" Jefferson \"Soapy\" Smith and Judge Roy Bean. The problem is that neither Smith nor Bean would have gotten quite as sleazy as Gannon in turning every opportunity into a chance to make some money. Stewart\\'s herd interrupted a public hanging - so (as a penalty fine) the herd is confiscated (to be sold later for Gannon\\'s profit). <br /><br />Stewart is partner with Ben (Walter Brennan - who oddly enough won his last Oscar playing Judge Roy Bean). They are also joined by Rube Morris (Jay C. Flippen) and also meet two women, the sophisticated Rhonda Castle (Ruth Roman) and the friendly and helpful Renee Vallon (Corinne Calvert). Rhonda works closely with Gannon, but had helped Jeff earlier in fleeing the authorities in Seattle. However, she has a similar \"I only trust myself\" attitude to Jeff. She does offer him employment to get supplies for herself to Dawson. He, Ben, and Rube go but at night (while the others are asleep) they go back and steal back their cattle. Renee follows and warns them that Gannon and his associates are following. Jeff holds off Gannon long enough for the cattle herd to be brought over the Canadian border, although Gannon points out that since Jeff has to return by way of Skagway Gannon can wait until he does to hang him.<br /><br />The reunited party of Rhonda and Jeff split over the trail to take to Dawson, Jeff opting for a longer and safer route. After he is proved right, they go by his route and reach Dawson only to find there is a lawless element threatening the community due to the gold fields. The herd is sold to Rhonda, and Jeff, Ben, Rube, and Renee start prospecting. There is soon two groups in the town of Dawson. One led by Connie Gilchrist and Chubby Johnson want to build a decent town. But the Mounties won\\'t be setting up a station in Dawson for months. The other, centering around the \"dancehall\" run by Rhonda, are in cahoots with Gannon who has a vast claim jumping scheme using his gang of gunslingers (Robert J. Wilke - really scary in one sequence with Chubby Johnson and Jay C. Flippen, Jack Elam, and Harry Morgan). Jeff wishes to steer clear of both, and head with his new wealth and Ben for a ranch they want in Utah. But will they get there? And will Jeff remain neutral?<br /><br />The performances are dandy here, including Stewart as a man who is willing to face all comers, but would otherwise be peaceful enough. Brennan is playing one of his patented old codgers, whose love of good coffee has unexpectedly bad results. Flippen is a drunk at first, but tragedy and responsibility shake him into a better frame of mind - and one who has a chance to verbally stab Stewart in the heart using Stewart\\'s own words against him. McIntyre would achieve stardom on television in WAGON TRAIN replacing Ward Bond, but his work in Mann\\'s films show his abilities as a villain (such as his trade post opportunist who outsmarts himself in WINCHESTER \\'73). He is, as is said elsewhere on this thread, really sleazy - but he has a sense of humor. Roman is an interesting blend of opportunist and human being, whose fate is determined by her better feelings. And Calvert is both a voice of conscience and a frontier \"Gigi\" aware that she is more than a young girl but a budding woman.<br /><br />Best of all is the Canadian Rockies background - as wonderful in its way as the use of Monument Valley by John Ford. Mann certainly did a first rate job directing this film, and the viewer will appreciate the results.'\n",
            " b'First off, let me say that I am a great believer in Fanpro stuff. I see it as a way to continue a good show long after it has been cancelled. Star Trek Voyages and Star Wars Revelations are examples of decent efforts. So I have a soft-spot for fanpro stuff that means I\\'ll overlook things that I would ordinarily slate badly.<br /><br />So on to ST: HF. Well, first off the good things. Enthusiasm is a major part of making any show believable and, for the most part, the crew of the various ships all seem to be having a good time with their roles. Next, the effects aren\\'t bad for a home-brew effort, with nothing to make you really wince. The stories aren\\'t too bad either. Nothing particularly innovative, but solid enough stuff and at least there are ongoing story-arcs.<br /><br />But it has a lot of faults.<br /><br />First off, although they quite obviously HAVE to rip-off Star Trek footage, set backdrops, music and effects, I see no reason why they proceeded to rip off virtually every other sci-fi musical score ever made. Everything from Aliens to Starship Troopers rears it orchestral head at one point or another. Likewise, much of the footage is from other movies, dutifully CGI\\'d over to make it look different. The Grey warships, for instance, though disguised, are quite obviously Star Destroyers from Star Wars. And the station is also rather obviously Fleet Battle Station Ticonderoga from Starship Troopers. Likewise, sound effects from various Star Wars movies appear in space battles between fighters, as does animated over footage. In one scene in either first or second season, I think, you even see two TIE fighters fly past during a battle, which hardly does your suspension of disbelief any favours.<br /><br />Acting varies from the reasonable to the hideously painful to watch. Everyone does improve as the seasons progress, though, but expect to grimace at the screen a lot, especially in the early seasons. They\\'ve also made some interesting acting choices. Let\\'s just say that the food replicators on this show seem permanently set to \"cake\" and leave it at that.<br /><br />Make-up effects are generally quite effective on the whole. But they really ought to mercilessly club to death the person who decided to use cheap Ferengi and Cardassian masks for anything other than background use or \"passing\" shots. They are just beyond unrealistic. Every time I saw one of these (apart from trying not to laugh too much) I kept expecting the unfortunate soul wearing it to pull out a gun and announce that \"This is a stick-up!\" In one scene a \"Cardassian\" actually talks whilst wearing one of these. Not only do the lips not move, but the mask doesn\\'t even have an opening where the mouth should be. Someone needs to be slapped hard for that. Couldn\\'t they have taken a craft knife to it, for goodness\\' sake! There are also some well-done, but unintentionally funny make-up jobs, such as the Herman Munster look alike.<br /><br />The writing, though coherent, is nothing new. Instead the script runs like a continuation of DS9, with the ships heading out from DS12 on various missions. The new enemy, \"The Grey\" aren\\'t very menacing and the plot line involving them is effectively a reworking of the Borg threads. i.e. Starfleet meet the Grey, the Grey are hugely powerful, Starfleet barely escape with their lives, then through technology they begin to find ways to combat the enemy etc etc. All done before with the Borg.<br /><br />Another bone of contention is the dialogue. Star Trek writers have long had the ability to write \"insert technobabble here\" into a script. It usually means an exposition of the latest plan to combat the enemy using \"quantum phase discriminators\" or \"isolytic charges\" etc. In other words, nonsense that tells you that they are on the case and a resolution is at hand.<br /><br />The words are just gibberish really. I\\'ve no problem with this, but where ST:HF makes a mess of it is where they include real-world comments into this concept.<br /><br />Tactical advice such as \"We need to regroup\" sounds good, but not when uttered by trio of characters already standing in a group. Likewise when asked what the situation is, a tactical officer is heard to reply \"We count three battleships\". He actually needed to count them? C\\'mon! I expected the questioner to ask him \"Are you sure?\" or \"Can you double check\". But my all-time favourite comment is this: <br /><br />Captain: \"Can we establish two-way communication?\"<br /><br />Comms officer: \"No, we can only send and receive..\"<br /><br />Well, duh!.....<br /><br />Having said all the above, the show does improve as it goes along. Seasons 1 and 2 are pretty bad, 3 shows an improvement but 4 & 5 are where it starts to get noticeably better. Season 6 so far looks quite reasonable.<br /><br />I do have a problem with their choice of media for the shows though. Quicktime sucks, quite frankly and the sooner they move to divx/avi format the better. Some of us like to actually take our downloaded shows and watch them on decent size screen and not peer at a tiny QT window on a computer monitor. Not only does Quicktime make this difficult, but the 320x180 resolution the shows are in does not scale at all well. In fact, it makes the shows pretty unwatchable, like they were a tenth-generation VHS tape copy. The least they could do was to include a hi-res downloadable option.<br /><br />Anyway, the show has promise, and I\\'m even beginning to like some of the characters. But that\\'s 40 episodes on, so I\\'m not sure this says that much about character development at all.<br /><br />But what can you say, it\\'s free....<br /><br />PS: Out of 28 votes, 19 people rated this show as a 9 or 10. Hmmmm... were we watching the same show? Or are you 19 all three year olds?'\n",
            " b\"This is quite an amazing film to watch. Using digital technology, the director, Rohmer, has literally encrusted his living actors into painted backdrops. Most of the time this works brilliantly, especially at the start where the film is like a pop up story book come to life. It is less successful in a few scenes, where it limits camera angles (they had not painted the side of some of the buildings for example) but it is a very interesting way to film a historical film which is as much about our own misconceptions and limited views of history as History itself. It is narrated using the memoirs of the Duc d'Orleans' ex- mistress, Grace Elliott. So, an event usually claimed as one of their own by Marxist historians, especially in France, is here told from the point of view of a female aristocratic foreigner. Inevitably a different point of view emerges -there can be no objective representation. The use of the memoirs device does give the film a rather episodic quality. Personally, I found the story line around the King's death the most interesting. A staunch Royalist she is shocked when the Duc votes for the King's death (a basic knowledge of the French Revolution is probably helpful to follow the dialogue between Grace and the Duc here. He was Louis's cousin and had himself elected to the Assembly, where he promptly changed his name to Philip Equality). The filming of Louis's death is masterly. Grace and her maidservant are in Meudon, out of Paris, watching from a hill with a telescope. We do not see the execution, we only hear the maid's commentary, like Grace. The most dramatic event of the Revolution happens off screen. Grace cannot bear to watch her king be killed. Her view is that of an aristocrat. Any justification of Louis's death is literally beyond her vision. This is powerful, keenly intelligent film making. The love story between the duc and Grace is insinuated, never told, and is powerfully moving (tho the Duc does seem a bit of a pompous fool at times; what does she see in him? No accounting for taste). The undercurrents of madness (simply existing being enough to be a suspect) that sweep individuals along in a time such as the Revolution are illustrated as Grace's life is turned upside down, her house is searched daily, yet she still orders her servants to cook her food and is incapable of dressing herself! If you have any interest at all in a subtle, well told film, making clever use of new technology to tell an old tale, or the representation of a pivotal moment in Europe's history narrated by an aristocratic foreign woman, its ultimate outsider, then this is well worth your time. It is a little slow in places but your patience is amply rewarded.\"]\n",
            "\n",
            "labels:  [1 0 1]\n"
          ]
        }
      ],
      "source": [
        "BUFFER_SIZE = 10000\n",
        "BATCH_SIZE = 64\n",
        "\n",
        "train_dataset = train_dataset.shuffle(BUFFER_SIZE).batch(BATCH_SIZE).prefetch(tf.data.AUTOTUNE)\n",
        "test_dataset = test_dataset.batch(BATCH_SIZE).prefetch(tf.data.AUTOTUNE)\n",
        "\n",
        "for example, label in train_dataset.take(1):\n",
        "  print('texts: ', example.numpy()[:3])\n",
        "  print()\n",
        "  print('labels: ', label.numpy()[:3])\n"
      ]
    },
    {
      "cell_type": "markdown",
      "source": [
        "Kode ini menyiapkan `train_dataset` dan `test_dataset` dengan proses *shuffle* untuk melatih model secara acak, mengelompokkan data dalam ukuran *batch* 64, dan menggunakan `prefetch` untuk mempercepat pemrosesan data. Variabel `BUFFER_SIZE` menentukan ukuran penyangga untuk *shuffle*, dan `BATCH_SIZE` menentukan ukuran *batch*. Loop terakhir mengambil tiga contoh teks dan label pertama dari `train_dataset`, mencetak tiga ulasan sebagai teks dan labelnya (dalam bentuk 0 atau 1) untuk memeriksa format data."
      ],
      "metadata": {
        "id": "h380vB8Nstq6"
      }
    },
    {
      "cell_type": "markdown",
      "metadata": {
        "id": "rAzOhw-_aK68"
      },
      "source": [
        "### **Buat Teks Encoder**"
      ]
    },
    {
      "cell_type": "code",
      "execution_count": null,
      "metadata": {
        "id": "xBmd3uMvaK68"
      },
      "outputs": [],
      "source": [
        "VOCAB_SIZE = 1000\n",
        "encoder = tf.keras.layers.TextVectorization(\n",
        "    max_tokens=VOCAB_SIZE)\n",
        "encoder.adapt(train_dataset.map(lambda text, label: text))"
      ]
    },
    {
      "cell_type": "markdown",
      "metadata": {
        "id": "_7_QFnQ5aK68"
      },
      "source": [
        "Metode .adapt mengatur kosakata lapisan. 20 token pertama dapat dilihat dengan kode berikut. Setelah padding dan token yang tidak diketahui, mereka diurutkan berdasarkan frekuensi:"
      ]
    },
    {
      "cell_type": "code",
      "execution_count": null,
      "metadata": {
        "colab": {
          "base_uri": "https://localhost:8080/"
        },
        "id": "S0fQYJ5QaK68",
        "outputId": "4182aaf0-94f3-463c-c9e9-0877b0c30bfe"
      },
      "outputs": [
        {
          "output_type": "execute_result",
          "data": {
            "text/plain": [
              "array(['', '[UNK]', 'the', 'and', 'a', 'of', 'to', 'is', 'in', 'it', 'i',\n",
              "       'this', 'that', 'br', 'was', 'as', 'for', 'with', 'movie', 'but'],\n",
              "      dtype='<U14')"
            ]
          },
          "metadata": {},
          "execution_count": 9
        }
      ],
      "source": [
        "vocab=np.array(encoder.get_vocabulary())\n",
        "vocab[:20]"
      ]
    },
    {
      "cell_type": "markdown",
      "metadata": {
        "id": "5RcIzkePaK69"
      },
      "source": [
        "Setelah kosakata diatur, lapisan dapat mengkodekan teks ke dalam indeks. Tensor indeks diberi bantalan 0 ke urutan terpanjang dalam batch (kecuali jika Anda menetapkan output_sequence_length tetap):"
      ]
    },
    {
      "cell_type": "code",
      "execution_count": null,
      "metadata": {
        "colab": {
          "base_uri": "https://localhost:8080/"
        },
        "id": "1bUZ9gOiaK69",
        "outputId": "c620804b-8d21-4e4d-d9dc-2d3c8bdac08a"
      },
      "outputs": [
        {
          "output_type": "execute_result",
          "data": {
            "text/plain": [
              "array([[  1,   1,   1, ...,   0,   0,   0],\n",
              "       [ 86, 127, 372, ..., 290, 336,   1],\n",
              "       [ 11,   7, 176, ...,   0,   0,   0]])"
            ]
          },
          "metadata": {},
          "execution_count": 10
        }
      ],
      "source": [
        "encoded_example=encoder(example)[:3].numpy()\n",
        "encoded_example"
      ]
    },
    {
      "cell_type": "markdown",
      "metadata": {
        "id": "1vcu1VZGaK69"
      },
      "source": [
        "Dengan pengaturan default, prosesnya tidak dapat dibalik sepenuhnya. Ada dua alasan utama untuk itu:\n",
        "\n",
        "-Nilai default untuk argumen standarisasi preprocessing.TextVectorization adalah \"lower_and_strip_punctuation\".\n",
        "\n",
        "-Ukuran kosa kata yang terbatas dan kurangnya fallback berbasis karakter menghasilkan beberapa token yang tidak diketahui."
      ]
    },
    {
      "cell_type": "code",
      "execution_count": null,
      "metadata": {
        "colab": {
          "base_uri": "https://localhost:8080/"
        },
        "id": "Nb72wLmCaK69",
        "outputId": "713e25dc-dca4-4339-a64c-2e4a53bf8716"
      },
      "outputs": [
        {
          "output_type": "stream",
          "name": "stdout",
          "text": [
            "Original:  b'Anthony Mann\\'s westerns with Jimmy Stewart are slowly gaining for that director a position with John Ford and Howard Hawks as the best film director in that genre. He certainly knows how to give dimension to nice guy Stewart - in Mann\\'s films there is an edge to Jimmy that is slowly demonstrated to the audience. In WINCHESTER \\'73 it was the relationship of Stewart to his brother and how it twists him into a figure of vengeance. Here it is a \"I trust only myself\" attitude, which leads to one complication after another. Even before the film properly begins he (as Jeff Webster) kills two of his hired cowboys who were helping on a cattle drive to Seattle because of some dispute (we never are clear about it - either they wanted to leave the cattle drive, or they tried to steal the cattle). <br /><br />He meets his match in Skagway, the port he has to get to in order to take his herd to Dawson. Skagway\\'s boss is a so-called law man named Gannon (John McIntyre) who reminds one of the real boss of Skagway in the \"Gold Rush\" Jefferson \"Soapy\" Smith and Judge Roy Bean. The problem is that neither Smith nor Bean would have gotten quite as sleazy as Gannon in turning every opportunity into a chance to make some money. Stewart\\'s herd interrupted a public hanging - so (as a penalty fine) the herd is confiscated (to be sold later for Gannon\\'s profit). <br /><br />Stewart is partner with Ben (Walter Brennan - who oddly enough won his last Oscar playing Judge Roy Bean). They are also joined by Rube Morris (Jay C. Flippen) and also meet two women, the sophisticated Rhonda Castle (Ruth Roman) and the friendly and helpful Renee Vallon (Corinne Calvert). Rhonda works closely with Gannon, but had helped Jeff earlier in fleeing the authorities in Seattle. However, she has a similar \"I only trust myself\" attitude to Jeff. She does offer him employment to get supplies for herself to Dawson. He, Ben, and Rube go but at night (while the others are asleep) they go back and steal back their cattle. Renee follows and warns them that Gannon and his associates are following. Jeff holds off Gannon long enough for the cattle herd to be brought over the Canadian border, although Gannon points out that since Jeff has to return by way of Skagway Gannon can wait until he does to hang him.<br /><br />The reunited party of Rhonda and Jeff split over the trail to take to Dawson, Jeff opting for a longer and safer route. After he is proved right, they go by his route and reach Dawson only to find there is a lawless element threatening the community due to the gold fields. The herd is sold to Rhonda, and Jeff, Ben, Rube, and Renee start prospecting. There is soon two groups in the town of Dawson. One led by Connie Gilchrist and Chubby Johnson want to build a decent town. But the Mounties won\\'t be setting up a station in Dawson for months. The other, centering around the \"dancehall\" run by Rhonda, are in cahoots with Gannon who has a vast claim jumping scheme using his gang of gunslingers (Robert J. Wilke - really scary in one sequence with Chubby Johnson and Jay C. Flippen, Jack Elam, and Harry Morgan). Jeff wishes to steer clear of both, and head with his new wealth and Ben for a ranch they want in Utah. But will they get there? And will Jeff remain neutral?<br /><br />The performances are dandy here, including Stewart as a man who is willing to face all comers, but would otherwise be peaceful enough. Brennan is playing one of his patented old codgers, whose love of good coffee has unexpectedly bad results. Flippen is a drunk at first, but tragedy and responsibility shake him into a better frame of mind - and one who has a chance to verbally stab Stewart in the heart using Stewart\\'s own words against him. McIntyre would achieve stardom on television in WAGON TRAIN replacing Ward Bond, but his work in Mann\\'s films show his abilities as a villain (such as his trade post opportunist who outsmarts himself in WINCHESTER \\'73). He is, as is said elsewhere on this thread, really sleazy - but he has a sense of humor. Roman is an interesting blend of opportunist and human being, whose fate is determined by her better feelings. And Calvert is both a voice of conscience and a frontier \"Gigi\" aware that she is more than a young girl but a budding woman.<br /><br />Best of all is the Canadian Rockies background - as wonderful in its way as the use of Monument Valley by John Ford. Mann certainly did a first rate job directing this film, and the viewer will appreciate the results.'\n",
            "Round-trip:  [UNK] [UNK] [UNK] with [UNK] [UNK] are [UNK] [UNK] for that director a [UNK] with john [UNK] and [UNK] [UNK] as the best film director in that genre he certainly knows how to give [UNK] to nice guy [UNK] in [UNK] films there is an [UNK] to [UNK] that is [UNK] [UNK] to the audience in [UNK] [UNK] it was the relationship of [UNK] to his brother and how it [UNK] him into a figure of [UNK] here it is a i [UNK] only myself [UNK] which leads to one [UNK] after another even before the film [UNK] begins he as [UNK] [UNK] [UNK] two of his [UNK] [UNK] who were [UNK] on a [UNK] [UNK] to [UNK] because of some [UNK] we never are clear about it either they wanted to leave the [UNK] [UNK] or they tried to [UNK] the [UNK] br br he meets his [UNK] in [UNK] the [UNK] he has to get to in order to take his [UNK] to [UNK] [UNK] [UNK] is a [UNK] [UNK] man named [UNK] john [UNK] who [UNK] one of the real [UNK] of [UNK] in the [UNK] [UNK] [UNK] [UNK] [UNK] and [UNK] [UNK] [UNK] the problem is that [UNK] [UNK] nor [UNK] would have [UNK] quite as [UNK] as [UNK] in [UNK] every [UNK] into a chance to make some money [UNK] [UNK] [UNK] a [UNK] [UNK] so as a [UNK] fine the [UNK] is [UNK] to be [UNK] later for [UNK] [UNK] br br [UNK] is [UNK] with [UNK] [UNK] [UNK] who [UNK] enough [UNK] his last oscar playing [UNK] [UNK] [UNK] they are also [UNK] by [UNK] [UNK] [UNK] [UNK] [UNK] and also meet two women the [UNK] [UNK] [UNK] [UNK] [UNK] and the [UNK] and [UNK] [UNK] [UNK] [UNK] [UNK] [UNK] works [UNK] with [UNK] but had [UNK] [UNK] earlier in [UNK] the [UNK] in [UNK] however she has a similar i only [UNK] myself [UNK] to [UNK] she does [UNK] him [UNK] to get [UNK] for herself to [UNK] he [UNK] and [UNK] go but at night while the others are [UNK] they go back and [UNK] back their [UNK] [UNK] [UNK] and [UNK] them that [UNK] and his [UNK] are [UNK] [UNK] [UNK] off [UNK] long enough for the [UNK] [UNK] to be brought over the [UNK] [UNK] although [UNK] points out that since [UNK] has to return by way of [UNK] [UNK] can wait until he does to [UNK] [UNK] br the [UNK] [UNK] of [UNK] and [UNK] [UNK] over the [UNK] to take to [UNK] [UNK] [UNK] for a [UNK] and [UNK] [UNK] after he is [UNK] right they go by his [UNK] and [UNK] [UNK] only to find there is a [UNK] [UNK] [UNK] the [UNK] due to the [UNK] [UNK] the [UNK] is [UNK] to [UNK] and [UNK] [UNK] [UNK] and [UNK] start [UNK] there is soon two [UNK] in the town of [UNK] one [UNK] by [UNK] [UNK] and [UNK] [UNK] want to [UNK] a decent town but the [UNK] wont be setting up a [UNK] in [UNK] for [UNK] the other [UNK] around the [UNK] run by [UNK] are in [UNK] with [UNK] who has a [UNK] [UNK] [UNK] [UNK] using his [UNK] of [UNK] robert [UNK] [UNK] really scary in one sequence with [UNK] [UNK] and [UNK] [UNK] [UNK] jack [UNK] and [UNK] [UNK] [UNK] [UNK] to [UNK] clear of both and head with his new [UNK] and [UNK] for a [UNK] they want in [UNK] but will they get there and will [UNK] [UNK] [UNK] br the performances are [UNK] here including [UNK] as a man who is [UNK] to face all [UNK] but would otherwise be [UNK] enough [UNK] is playing one of his [UNK] old [UNK] whose love of good [UNK] has [UNK] bad [UNK] [UNK] is a [UNK] at first but [UNK] and [UNK] [UNK] him into a better [UNK] of mind and one who has a chance to [UNK] [UNK] [UNK] in the heart using [UNK] own words against him [UNK] would [UNK] [UNK] on television in [UNK] [UNK] [UNK] [UNK] [UNK] but his work in [UNK] films show his [UNK] as a [UNK] such as his [UNK] [UNK] [UNK] who [UNK] himself in [UNK] [UNK] he is as is said [UNK] on this [UNK] really [UNK] but he has a sense of humor [UNK] is an interesting [UNK] of [UNK] and human being whose [UNK] is [UNK] by her better [UNK] and [UNK] is both a voice of [UNK] and a [UNK] [UNK] [UNK] that she is more than a young girl but a [UNK] [UNK] br best of all is the [UNK] [UNK] background as wonderful in its way as the use of [UNK] [UNK] by john [UNK] [UNK] certainly did a first [UNK] job directing this film and the viewer will [UNK] the [UNK]                                                                                                                                                                                                \n",
            "\n",
            "Original:  b'First off, let me say that I am a great believer in Fanpro stuff. I see it as a way to continue a good show long after it has been cancelled. Star Trek Voyages and Star Wars Revelations are examples of decent efforts. So I have a soft-spot for fanpro stuff that means I\\'ll overlook things that I would ordinarily slate badly.<br /><br />So on to ST: HF. Well, first off the good things. Enthusiasm is a major part of making any show believable and, for the most part, the crew of the various ships all seem to be having a good time with their roles. Next, the effects aren\\'t bad for a home-brew effort, with nothing to make you really wince. The stories aren\\'t too bad either. Nothing particularly innovative, but solid enough stuff and at least there are ongoing story-arcs.<br /><br />But it has a lot of faults.<br /><br />First off, although they quite obviously HAVE to rip-off Star Trek footage, set backdrops, music and effects, I see no reason why they proceeded to rip off virtually every other sci-fi musical score ever made. Everything from Aliens to Starship Troopers rears it orchestral head at one point or another. Likewise, much of the footage is from other movies, dutifully CGI\\'d over to make it look different. The Grey warships, for instance, though disguised, are quite obviously Star Destroyers from Star Wars. And the station is also rather obviously Fleet Battle Station Ticonderoga from Starship Troopers. Likewise, sound effects from various Star Wars movies appear in space battles between fighters, as does animated over footage. In one scene in either first or second season, I think, you even see two TIE fighters fly past during a battle, which hardly does your suspension of disbelief any favours.<br /><br />Acting varies from the reasonable to the hideously painful to watch. Everyone does improve as the seasons progress, though, but expect to grimace at the screen a lot, especially in the early seasons. They\\'ve also made some interesting acting choices. Let\\'s just say that the food replicators on this show seem permanently set to \"cake\" and leave it at that.<br /><br />Make-up effects are generally quite effective on the whole. But they really ought to mercilessly club to death the person who decided to use cheap Ferengi and Cardassian masks for anything other than background use or \"passing\" shots. They are just beyond unrealistic. Every time I saw one of these (apart from trying not to laugh too much) I kept expecting the unfortunate soul wearing it to pull out a gun and announce that \"This is a stick-up!\" In one scene a \"Cardassian\" actually talks whilst wearing one of these. Not only do the lips not move, but the mask doesn\\'t even have an opening where the mouth should be. Someone needs to be slapped hard for that. Couldn\\'t they have taken a craft knife to it, for goodness\\' sake! There are also some well-done, but unintentionally funny make-up jobs, such as the Herman Munster look alike.<br /><br />The writing, though coherent, is nothing new. Instead the script runs like a continuation of DS9, with the ships heading out from DS12 on various missions. The new enemy, \"The Grey\" aren\\'t very menacing and the plot line involving them is effectively a reworking of the Borg threads. i.e. Starfleet meet the Grey, the Grey are hugely powerful, Starfleet barely escape with their lives, then through technology they begin to find ways to combat the enemy etc etc. All done before with the Borg.<br /><br />Another bone of contention is the dialogue. Star Trek writers have long had the ability to write \"insert technobabble here\" into a script. It usually means an exposition of the latest plan to combat the enemy using \"quantum phase discriminators\" or \"isolytic charges\" etc. In other words, nonsense that tells you that they are on the case and a resolution is at hand.<br /><br />The words are just gibberish really. I\\'ve no problem with this, but where ST:HF makes a mess of it is where they include real-world comments into this concept.<br /><br />Tactical advice such as \"We need to regroup\" sounds good, but not when uttered by trio of characters already standing in a group. Likewise when asked what the situation is, a tactical officer is heard to reply \"We count three battleships\". He actually needed to count them? C\\'mon! I expected the questioner to ask him \"Are you sure?\" or \"Can you double check\". But my all-time favourite comment is this: <br /><br />Captain: \"Can we establish two-way communication?\"<br /><br />Comms officer: \"No, we can only send and receive..\"<br /><br />Well, duh!.....<br /><br />Having said all the above, the show does improve as it goes along. Seasons 1 and 2 are pretty bad, 3 shows an improvement but 4 & 5 are where it starts to get noticeably better. Season 6 so far looks quite reasonable.<br /><br />I do have a problem with their choice of media for the shows though. Quicktime sucks, quite frankly and the sooner they move to divx/avi format the better. Some of us like to actually take our downloaded shows and watch them on decent size screen and not peer at a tiny QT window on a computer monitor. Not only does Quicktime make this difficult, but the 320x180 resolution the shows are in does not scale at all well. In fact, it makes the shows pretty unwatchable, like they were a tenth-generation VHS tape copy. The least they could do was to include a hi-res downloadable option.<br /><br />Anyway, the show has promise, and I\\'m even beginning to like some of the characters. But that\\'s 40 episodes on, so I\\'m not sure this says that much about character development at all.<br /><br />But what can you say, it\\'s free....<br /><br />PS: Out of 28 votes, 19 people rated this show as a 9 or 10. Hmmmm... were we watching the same show? Or are you 19 all three year olds?'\n",
            "Round-trip:  first off let me say that i am a great [UNK] in [UNK] stuff i see it as a way to [UNK] a good show long after it has been [UNK] star [UNK] [UNK] and star [UNK] [UNK] are [UNK] of decent [UNK] so i have a [UNK] for [UNK] stuff that means ill [UNK] things that i would [UNK] [UNK] [UNK] br so on to [UNK] [UNK] well first off the good things [UNK] is a major part of making any show believable and for the most part the [UNK] of the various [UNK] all seem to be having a good time with their roles next the effects arent bad for a [UNK] effort with nothing to make you really [UNK] the stories arent too bad either nothing particularly [UNK] but [UNK] enough stuff and at least there are [UNK] [UNK] br but it has a lot of [UNK] br first off although they quite obviously have to [UNK] star [UNK] footage set [UNK] music and effects i see no reason why they [UNK] to [UNK] off [UNK] every other scifi musical score ever made everything from [UNK] to [UNK] [UNK] [UNK] it [UNK] head at one point or another [UNK] much of the footage is from other movies [UNK] [UNK] over to make it look different the [UNK] [UNK] for [UNK] though [UNK] are quite obviously star [UNK] from star [UNK] and the [UNK] is also rather obviously [UNK] battle [UNK] [UNK] from [UNK] [UNK] [UNK] sound effects from various star [UNK] movies appear in space [UNK] between [UNK] as does [UNK] over footage in one scene in either first or second season i think you even see two [UNK] [UNK] [UNK] past during a battle which hardly does your [UNK] of [UNK] any [UNK] br acting [UNK] from the [UNK] to the [UNK] [UNK] to watch everyone does [UNK] as the [UNK] [UNK] though but expect to [UNK] at the screen a lot especially in the early [UNK] [UNK] also made some interesting acting [UNK] lets just say that the [UNK] [UNK] on this show seem [UNK] set to [UNK] and leave it at [UNK] br [UNK] effects are [UNK] quite [UNK] on the whole but they really [UNK] to [UNK] [UNK] to death the person who decided to use cheap [UNK] and [UNK] [UNK] for anything other than background use or [UNK] shots they are just beyond [UNK] every time i saw one of these apart from trying not to laugh too much i kept expecting the [UNK] [UNK] [UNK] it to [UNK] out a [UNK] and [UNK] that this is a [UNK] in one scene a [UNK] actually [UNK] [UNK] [UNK] one of these not only do the [UNK] not move but the [UNK] doesnt even have an opening where the [UNK] should be someone needs to be [UNK] hard for that couldnt they have taken a [UNK] [UNK] to it for [UNK] [UNK] there are also some [UNK] but [UNK] funny [UNK] [UNK] such as the [UNK] [UNK] look [UNK] br the writing though [UNK] is nothing new instead the script [UNK] like a [UNK] of [UNK] with the [UNK] [UNK] out from [UNK] on various [UNK] the new [UNK] the [UNK] arent very [UNK] and the plot line [UNK] them is [UNK] a [UNK] of the [UNK] [UNK] [UNK] [UNK] meet the [UNK] the [UNK] are [UNK] powerful [UNK] [UNK] [UNK] with their lives then through [UNK] they begin to find ways to [UNK] the [UNK] etc etc all done before with the [UNK] br another [UNK] of [UNK] is the dialogue star [UNK] writers have long had the [UNK] to write [UNK] [UNK] here into a script it usually means an [UNK] of the [UNK] [UNK] to [UNK] the [UNK] using [UNK] [UNK] [UNK] or [UNK] [UNK] etc in other words [UNK] that tells you that they are on the case and a [UNK] is at [UNK] br the words are just [UNK] really ive no problem with this but where [UNK] makes a mess of it is where they [UNK] [UNK] comments into this [UNK] br [UNK] [UNK] such as we need to [UNK] sounds good but not when [UNK] by [UNK] of characters already [UNK] in a group [UNK] when [UNK] what the situation is a [UNK] [UNK] is heard to [UNK] we [UNK] three [UNK] he actually needed to [UNK] them [UNK] i expected the [UNK] to ask him are you sure or can you [UNK] check but my [UNK] [UNK] comment is this br br [UNK] can we [UNK] [UNK] [UNK] br [UNK] [UNK] no we can only [UNK] and [UNK] br well [UNK] br having said all the above the show does [UNK] as it goes along [UNK] 1 and 2 are pretty bad 3 shows an [UNK] but 4 5 are where it starts to get [UNK] better season [UNK] so far looks quite [UNK] br i do have a problem with their [UNK] of [UNK] for the shows though [UNK] [UNK] quite [UNK] and the [UNK] they move to [UNK] [UNK] the better some of us like to actually take our [UNK] shows and watch them on decent [UNK] screen and not [UNK] at a [UNK] [UNK] [UNK] on a [UNK] [UNK] not only does [UNK] make this difficult but the [UNK] [UNK] the shows are in does not [UNK] at all well in fact it makes the shows pretty [UNK] like they were a [UNK] [UNK] [UNK] [UNK] the least they could do was to [UNK] a [UNK] [UNK] [UNK] br anyway the show has [UNK] and im even beginning to like some of the characters but thats [UNK] episodes on so im not sure this says that much about character development at [UNK] br but what can you say its [UNK] br [UNK] out of [UNK] [UNK] [UNK] people [UNK] this show as a [UNK] or 10 [UNK] were we watching the same show or are you [UNK] all three year [UNK]\n",
            "\n",
            "Original:  b\"This is quite an amazing film to watch. Using digital technology, the director, Rohmer, has literally encrusted his living actors into painted backdrops. Most of the time this works brilliantly, especially at the start where the film is like a pop up story book come to life. It is less successful in a few scenes, where it limits camera angles (they had not painted the side of some of the buildings for example) but it is a very interesting way to film a historical film which is as much about our own misconceptions and limited views of history as History itself. It is narrated using the memoirs of the Duc d'Orleans' ex- mistress, Grace Elliott. So, an event usually claimed as one of their own by Marxist historians, especially in France, is here told from the point of view of a female aristocratic foreigner. Inevitably a different point of view emerges -there can be no objective representation. The use of the memoirs device does give the film a rather episodic quality. Personally, I found the story line around the King's death the most interesting. A staunch Royalist she is shocked when the Duc votes for the King's death (a basic knowledge of the French Revolution is probably helpful to follow the dialogue between Grace and the Duc here. He was Louis's cousin and had himself elected to the Assembly, where he promptly changed his name to Philip Equality). The filming of Louis's death is masterly. Grace and her maidservant are in Meudon, out of Paris, watching from a hill with a telescope. We do not see the execution, we only hear the maid's commentary, like Grace. The most dramatic event of the Revolution happens off screen. Grace cannot bear to watch her king be killed. Her view is that of an aristocrat. Any justification of Louis's death is literally beyond her vision. This is powerful, keenly intelligent film making. The love story between the duc and Grace is insinuated, never told, and is powerfully moving (tho the Duc does seem a bit of a pompous fool at times; what does she see in him? No accounting for taste). The undercurrents of madness (simply existing being enough to be a suspect) that sweep individuals along in a time such as the Revolution are illustrated as Grace's life is turned upside down, her house is searched daily, yet she still orders her servants to cook her food and is incapable of dressing herself! If you have any interest at all in a subtle, well told film, making clever use of new technology to tell an old tale, or the representation of a pivotal moment in Europe's history narrated by an aristocratic foreign woman, its ultimate outsider, then this is well worth your time. It is a little slow in places but your patience is amply rewarded.\"\n",
            "Round-trip:  this is quite an amazing film to watch using [UNK] [UNK] the director [UNK] has [UNK] [UNK] his living actors into [UNK] [UNK] most of the time this works [UNK] especially at the start where the film is like a [UNK] up story book come to life it is less [UNK] in a few scenes where it [UNK] camera [UNK] they had not [UNK] the side of some of the [UNK] for example but it is a very interesting way to film a [UNK] film which is as much about our own [UNK] and [UNK] [UNK] of history as history itself it is [UNK] using the [UNK] of the [UNK] [UNK] [UNK] [UNK] [UNK] [UNK] so an [UNK] usually [UNK] as one of their own by [UNK] [UNK] especially in [UNK] is here told from the point of view of a female [UNK] [UNK] [UNK] a different point of view [UNK] there can be no [UNK] [UNK] the use of the [UNK] [UNK] does give the film a rather [UNK] quality [UNK] i found the story line around the [UNK] death the most interesting a [UNK] [UNK] she is [UNK] when the [UNK] [UNK] for the [UNK] death a [UNK] [UNK] of the french [UNK] is probably [UNK] to follow the dialogue between [UNK] and the [UNK] here he was [UNK] [UNK] and had himself [UNK] to the [UNK] where he [UNK] [UNK] his name to [UNK] [UNK] the [UNK] of [UNK] death is [UNK] [UNK] and her [UNK] are in [UNK] out of [UNK] watching from a [UNK] with a [UNK] we do not see the [UNK] we only hear the [UNK] [UNK] like [UNK] the most dramatic [UNK] of the [UNK] happens off screen [UNK] cannot [UNK] to watch her king be killed her view is that of an [UNK] any [UNK] of [UNK] death is [UNK] beyond her [UNK] this is powerful [UNK] [UNK] film making the love story between the [UNK] and [UNK] is [UNK] never told and is [UNK] moving [UNK] the [UNK] does seem a bit of a [UNK] [UNK] at times what does she see in him no [UNK] for [UNK] the [UNK] of [UNK] simply [UNK] being enough to be a [UNK] that [UNK] [UNK] along in a time such as the [UNK] are [UNK] as [UNK] life is turned [UNK] down her house is [UNK] [UNK] yet she still [UNK] her [UNK] to [UNK] her [UNK] and is [UNK] of [UNK] herself if you have any interest at all in a [UNK] well told film making [UNK] use of new [UNK] to tell an old tale or the [UNK] of a [UNK] moment in [UNK] history [UNK] by an [UNK] [UNK] woman its [UNK] [UNK] then this is well worth your time it is a little slow in [UNK] but your [UNK] is [UNK] [UNK]                                                                                                                                                                                                                                                                                                                                                                                                                                                                                                                                             \n",
            "\n"
          ]
        }
      ],
      "source": [
        "for n in range(3):\n",
        "  print(\"Original: \", example[n].numpy())\n",
        "  print(\"Round-trip: \", \" \".join(vocab[encoded_example[n]]))\n",
        "  print()"
      ]
    },
    {
      "cell_type": "markdown",
      "source": [
        "Kode tersebut mendefinisikan model Keras sederhana untuk memproses urutan, yang menggabungkan encoder, lapisan embedding, LSTM bidirectional, dan dua lapisan dense.\n",
        "\n",
        "Output menunjukkan tiga contoh dengan teks asli dan teks \"round-trip\", yang menampilkan versi yang didekode setelah melewati model. Teks round-trip mengandung banyak token `[UNK]`, yang menunjukkan bahwa beberapa kata tidak dikenali atau tidak dapat dikodekan. Ini menunjukkan bahwa kosakata yang digunakan dalam model mungkin terbatas atau tidak sepenuhnya menangkap teks aslinya."
      ],
      "metadata": {
        "id": "OvMWDqNruhZw"
      }
    },
    {
      "cell_type": "markdown",
      "metadata": {
        "id": "Sz0OLy9eaK6-"
      },
      "source": [
        "### **Buat Model**"
      ]
    },
    {
      "cell_type": "code",
      "execution_count": null,
      "metadata": {
        "id": "syGyGNBuaK6-"
      },
      "outputs": [],
      "source": [
        "model = tf.keras.Sequential([\n",
        "    encoder,\n",
        "    tf.keras.layers.Embedding(\n",
        "        input_dim=len(encoder.get_vocabulary()),\n",
        "        output_dim=64,\n",
        "        # Use masking to handle the variable sequence lengths\n",
        "        mask_zero=True),\n",
        "    tf.keras.layers.Bidirectional(tf.keras.layers.LSTM(64)),\n",
        "    tf.keras.layers.Dense(64, activation='relu'),\n",
        "    tf.keras.layers.Dense(1)\n",
        "])"
      ]
    },
    {
      "cell_type": "markdown",
      "metadata": {
        "id": "pE4OjdoeaK6_"
      },
      "source": [
        "Kode ini mendefinisikan model *neural network* menggunakan Keras. Model dimulai dengan `encoder` untuk memproses input teks, diikuti oleh lapisan `Embedding` yang mengonversi kata-kata menjadi representasi vektor berdimensi 64. Kemudian, lapisan `Bidirectional LSTM` mengolah data urutan dengan mempelajari konteks dari kedua arah (maju dan mundur). Setelah itu, ada lapisan `Dense` dengan 64 neuron dan fungsi aktivasi ReLU, diakhiri dengan lapisan `Dense` terakhir yang memiliki satu neuron untuk menghasilkan output, yang bisa digunakan untuk prediksi biner (seperti klasifikasi ulasan positif atau negatif)."
      ]
    },
    {
      "cell_type": "code",
      "execution_count": null,
      "metadata": {
        "colab": {
          "base_uri": "https://localhost:8080/"
        },
        "id": "qG4QvkLDaK6_",
        "outputId": "51106a9e-e60b-46eb-909c-4fb2b0f5e39e"
      },
      "outputs": [
        {
          "output_type": "stream",
          "name": "stdout",
          "text": [
            "[False, True, True, True, True]\n"
          ]
        }
      ],
      "source": [
        "print([layer.supports_masking for layer in model.layers])"
      ]
    },
    {
      "cell_type": "markdown",
      "source": [
        "Perintah `print([layer.supports_masking for layer in model.layers])` digunakan untuk memeriksa apakah setiap lapisan dalam model mendukung fitur masking. Output yang dihasilkan, yaitu `[False, True, True, True, True]`, menunjukkan bahwa lapisan pertama tidak mendukung masking, sementara keempat lapisan berikutnya mendukungnya. Ini berarti bahwa lapisan-lapisan tersebut dapat menangani input dengan panjang yang bervariasi dan dapat mengabaikan elemen yang tidak relevan (biasanya yang bernilai nol) saat memproses data. Fitur ini sangat berguna dalam model yang beroperasi pada data sekuensial seperti teks."
      ],
      "metadata": {
        "id": "h0jRrxUBu4De"
      }
    },
    {
      "cell_type": "code",
      "execution_count": null,
      "metadata": {
        "colab": {
          "base_uri": "https://localhost:8080/"
        },
        "id": "45RJC-xzaK6_",
        "outputId": "20a007ed-a28d-45d8-fc53-87c6d4560a57"
      },
      "outputs": [
        {
          "output_type": "stream",
          "name": "stdout",
          "text": [
            "\u001b[1m1/1\u001b[0m \u001b[32m━━━━━━━━━━━━━━━━━━━━\u001b[0m\u001b[37m\u001b[0m \u001b[1m2s\u001b[0m 2s/step\n",
            "[0.0057163]\n"
          ]
        }
      ],
      "source": [
        "import numpy as np\n",
        "import tensorflow as tf\n",
        "\n",
        "# Fungsi untuk memproses teks menjadi dataset\n",
        "def create_dataset(text):\n",
        "    return tf.data.Dataset.from_tensor_slices([text]).batch(1)\n",
        "\n",
        "sample_text = ('The movie was cool. The animation and the graphics '\n",
        "               'were out of this world. I would recommend this movie.')\n",
        "dataset = create_dataset(sample_text)\n",
        "\n",
        "# Prediksi menggunakan model\n",
        "predictions = model.predict(dataset)\n",
        "print(predictions[0])"
      ]
    },
    {
      "cell_type": "markdown",
      "metadata": {
        "id": "yAQynEGzaK7A"
      },
      "source": [
        "Kode program ini mengimpor pustaka NumPy dan TensorFlow, lalu mendefinisikan fungsi `create_dataset` untuk mengubah teks menjadi dataset TensorFlow. Dalam contoh ini, `sample_text` adalah ulasan film yang diproses menggunakan fungsi tersebut menjadi sebuah dataset dengan batch size 1. Model kemudian melakukan prediksi pada dataset ini, dan hasil prediksinya dicetak. Output yang dihasilkan adalah nilai negatif, yang menunjukkan bahwa model mungkin memberikan penilaian yang kurang positif terhadap teks tersebut, tetapi ini tergantung pada konteks model dan skala penilaiannya."
      ]
    },
    {
      "cell_type": "code",
      "execution_count": null,
      "metadata": {
        "id": "RWRaeg25aK7A",
        "colab": {
          "base_uri": "https://localhost:8080/"
        },
        "outputId": "bd15c1b5-afc4-4e1e-8ae5-4986627516d9"
      },
      "outputs": [
        {
          "output_type": "stream",
          "name": "stdout",
          "text": [
            "\u001b[1m2/2\u001b[0m \u001b[32m━━━━━━━━━━━━━━━━━━━━\u001b[0m\u001b[37m\u001b[0m \u001b[1m0s\u001b[0m 74ms/step\n",
            "[0.0057163]\n",
            "[0.0449807]\n"
          ]
        }
      ],
      "source": [
        "import numpy as np\n",
        "import tensorflow as tf\n",
        "\n",
        "# Fungsi untuk memproses teks menjadi dataset\n",
        "def create_dataset(texts):\n",
        "    return tf.data.Dataset.from_tensor_slices(texts).batch(1)\n",
        "\n",
        "sample_text = ('The movie was cool. The animation and the graphics '\n",
        "               'were out of this world. I would recommend this movie.')\n",
        "padding = \"the \" * 2000  # Padding text\n",
        "texts = [sample_text, padding]  # List of texts including padding\n",
        "\n",
        "# Membuat dataset dari teks\n",
        "dataset = create_dataset(texts)\n",
        "\n",
        "# Prediksi menggunakan model\n",
        "predictions = model.predict(dataset)\n",
        "for pred in predictions:\n",
        "    print(pred)"
      ]
    },
    {
      "cell_type": "markdown",
      "metadata": {
        "id": "n7IeUaLLaK7A"
      },
      "source": [
        "Kode program ini memproses dua teks, yaitu `sample_text` dan `padding`, untuk membuat dataset TensorFlow. Fungsi `create_dataset` menerima daftar teks dan mengubahnya menjadi dataset dengan batch size 1. Setelah itu, model melakukan prediksi pada dataset yang telah dibuat. Hasil prediksi untuk masing-masing teks dicetak satu per satu. Output menunjukkan dua nilai negatif, yang mungkin menunjukkan penilaian negatif atau rendah dari model terhadap kedua teks tersebut."
      ]
    },
    {
      "cell_type": "code",
      "execution_count": null,
      "metadata": {
        "id": "6qOJh041aK7A"
      },
      "outputs": [],
      "source": [
        "model.compile(loss=tf.keras.losses.BinaryCrossentropy(from_logits=True),\n",
        "              optimizer=tf.keras.optimizers.Adam(1e-4),\n",
        "              metrics=['accuracy'])"
      ]
    },
    {
      "cell_type": "markdown",
      "source": [
        "Kode ini digunakan untuk mengonfigurasi model pembelajaran mesin dengan TensorFlow. Fungsi `model.compile()` menyiapkan model dengan tiga komponen utama: fungsi loss yang digunakan adalah binary crossentropy, yang cocok untuk klasifikasi biner dan menangani output yang berupa logit. Optimizer yang dipilih adalah Adam dengan laju pembelajaran \\(1 \\times 10^{-4}\\), yang membantu memperbarui bobot model saat pelatihan. Selain itu, metrik yang digunakan untuk mengukur kinerja model adalah akurasi. Setelah ini, model siap dilatih dengan dataset."
      ],
      "metadata": {
        "id": "Nre8kL2_xLc6"
      }
    },
    {
      "cell_type": "markdown",
      "metadata": {
        "id": "KT5quHB9aK7A"
      },
      "source": [
        "### **Train Model**\n"
      ]
    },
    {
      "cell_type": "code",
      "execution_count": null,
      "metadata": {
        "id": "MQMjVWCsaK7B",
        "colab": {
          "base_uri": "https://localhost:8080/"
        },
        "outputId": "0ffb75b6-5117-4471-8248-c0882d358f76"
      },
      "outputs": [
        {
          "output_type": "stream",
          "name": "stdout",
          "text": [
            "Epoch 1/10\n",
            "\u001b[1m391/391\u001b[0m \u001b[32m━━━━━━━━━━━━━━━━━━━━\u001b[0m\u001b[37m\u001b[0m \u001b[1m31s\u001b[0m 65ms/step - accuracy: 0.5117 - loss: 0.6843 - val_accuracy: 0.7745 - val_loss: 0.5740\n",
            "Epoch 2/10\n",
            "\u001b[1m391/391\u001b[0m \u001b[32m━━━━━━━━━━━━━━━━━━━━\u001b[0m\u001b[37m\u001b[0m \u001b[1m38s\u001b[0m 63ms/step - accuracy: 0.7761 - loss: 0.4650 - val_accuracy: 0.8458 - val_loss: 0.3535\n",
            "Epoch 3/10\n",
            "\u001b[1m391/391\u001b[0m \u001b[32m━━━━━━━━━━━━━━━━━━━━\u001b[0m\u001b[37m\u001b[0m \u001b[1m41s\u001b[0m 62ms/step - accuracy: 0.8408 - loss: 0.3564 - val_accuracy: 0.8682 - val_loss: 0.3176\n",
            "Epoch 4/10\n",
            "\u001b[1m391/391\u001b[0m \u001b[32m━━━━━━━━━━━━━━━━━━━━\u001b[0m\u001b[37m\u001b[0m \u001b[1m42s\u001b[0m 64ms/step - accuracy: 0.8566 - loss: 0.3304 - val_accuracy: 0.8448 - val_loss: 0.3405\n",
            "Epoch 5/10\n",
            "\u001b[1m391/391\u001b[0m \u001b[32m━━━━━━━━━━━━━━━━━━━━\u001b[0m\u001b[37m\u001b[0m \u001b[1m41s\u001b[0m 65ms/step - accuracy: 0.8619 - loss: 0.3167 - val_accuracy: 0.8599 - val_loss: 0.3205\n",
            "Epoch 6/10\n",
            "\u001b[1m391/391\u001b[0m \u001b[32m━━━━━━━━━━━━━━━━━━━━\u001b[0m\u001b[37m\u001b[0m \u001b[1m41s\u001b[0m 64ms/step - accuracy: 0.8597 - loss: 0.3224 - val_accuracy: 0.8505 - val_loss: 0.3291\n",
            "Epoch 7/10\n",
            "\u001b[1m391/391\u001b[0m \u001b[32m━━━━━━━━━━━━━━━━━━━━\u001b[0m\u001b[37m\u001b[0m \u001b[1m41s\u001b[0m 64ms/step - accuracy: 0.8683 - loss: 0.3079 - val_accuracy: 0.8583 - val_loss: 0.3099\n",
            "Epoch 8/10\n",
            "\u001b[1m391/391\u001b[0m \u001b[32m━━━━━━━━━━━━━━━━━━━━\u001b[0m\u001b[37m\u001b[0m \u001b[1m41s\u001b[0m 64ms/step - accuracy: 0.8711 - loss: 0.2988 - val_accuracy: 0.8573 - val_loss: 0.3116\n",
            "Epoch 9/10\n",
            "\u001b[1m391/391\u001b[0m \u001b[32m━━━━━━━━━━━━━━━━━━━━\u001b[0m\u001b[37m\u001b[0m \u001b[1m24s\u001b[0m 62ms/step - accuracy: 0.8713 - loss: 0.2996 - val_accuracy: 0.8656 - val_loss: 0.3335\n",
            "Epoch 10/10\n",
            "\u001b[1m391/391\u001b[0m \u001b[32m━━━━━━━━━━━━━━━━━━━━\u001b[0m\u001b[37m\u001b[0m \u001b[1m41s\u001b[0m 63ms/step - accuracy: 0.8693 - loss: 0.3014 - val_accuracy: 0.8344 - val_loss: 0.3270\n"
          ]
        }
      ],
      "source": [
        "history = model.fit(train_dataset, epochs=10,\n",
        "                    validation_data=test_dataset,\n",
        "                    validation_steps=30)"
      ]
    },
    {
      "cell_type": "markdown",
      "source": [
        "Kode ini digunakan untuk melatih model pembelajaran mesin dengan dataset yang telah disiapkan. Fungsi `model.fit()` menjalankan proses pelatihan selama 10 epoch, menggunakan `train_dataset` sebagai data latih dan `test_dataset` untuk validasi. Selama setiap epoch, model menghitung akurasi dan loss baik untuk data latih maupun validasi. Output menunjukkan kemajuan pelatihan, termasuk akurasi dan loss di setiap epoch, dengan akurasi validasi yang umumnya lebih tinggi daripada akurasi pada data latih, menunjukkan bahwa model belajar dengan baik dari data. Namun, ada juga fluktuasi dalam loss dan akurasi, yang bisa mengindikasikan overfitting atau tantangan dalam generalisasi pada data baru."
      ],
      "metadata": {
        "id": "yo-0W-Ik4Jfm"
      }
    },
    {
      "cell_type": "code",
      "execution_count": null,
      "metadata": {
        "id": "xivWdOC8aK7B",
        "colab": {
          "base_uri": "https://localhost:8080/"
        },
        "outputId": "5be3bbf2-0244-4f80-8ed4-09c5eab2b292"
      },
      "outputs": [
        {
          "output_type": "stream",
          "name": "stdout",
          "text": [
            "\u001b[1m391/391\u001b[0m \u001b[32m━━━━━━━━━━━━━━━━━━━━\u001b[0m\u001b[37m\u001b[0m \u001b[1m13s\u001b[0m 33ms/step - accuracy: 0.8435 - loss: 0.3245\n",
            "Test Loss: 0.3248208463191986\n",
            "Test Accuracy: 0.8420400023460388\n"
          ]
        }
      ],
      "source": [
        "test_loss, test_acc = model.evaluate(test_dataset)\n",
        "\n",
        "print('Test Loss:', test_loss)\n",
        "print('Test Accuracy:', test_acc)"
      ]
    },
    {
      "cell_type": "markdown",
      "source": [
        "Kode ini digunakan untuk mengevaluasi performa model pada dataset pengujian setelah proses pelatihan. Fungsi `model.evaluate()` menghitung nilai loss dan akurasi model menggunakan `test_dataset`. Output menunjukkan bahwa model memiliki test accuracy sekitar 84.2% dan test loss sekitar 0.325. Ini berarti model dapat mengklasifikasikan data pengujian dengan baik, meskipun masih ada ruang untuk perbaikan dalam hal akurasi. Angka loss yang lebih rendah umumnya menunjukkan bahwa model lebih baik dalam memprediksi output yang benar."
      ],
      "metadata": {
        "id": "T1nzhllD4TSj"
      }
    },
    {
      "cell_type": "code",
      "execution_count": null,
      "metadata": {
        "id": "u3buyvaYaK7B",
        "colab": {
          "base_uri": "https://localhost:8080/",
          "height": 525
        },
        "outputId": "660c65b7-ec50-4684-df0a-7bf090d691d7"
      },
      "outputs": [
        {
          "output_type": "execute_result",
          "data": {
            "text/plain": [
              "(0.0, 0.662814861536026)"
            ]
          },
          "metadata": {},
          "execution_count": 19
        },
        {
          "output_type": "display_data",
          "data": {
            "text/plain": [
              "<Figure size 1600x800 with 2 Axes>"
            ],
            "image/png": "[encoded data removed]"
          },
          "metadata": {}
        }
      ],
      "source": [
        "plt.figure(figsize=(16, 8))\n",
        "plt.subplot(1, 2, 1)\n",
        "plot_graphs(history, 'accuracy')\n",
        "plt.ylim(None, 1)\n",
        "plt.subplot(1, 2, 2)\n",
        "plot_graphs(history, 'loss')\n",
        "plt.ylim(0, None)"
      ]
    },
    {
      "cell_type": "markdown",
      "source": [
        "Kode program ini digunakan untuk membuat visualisasi grafik dari hasil pelatihan model. Pertama, ukuran figure diatur menjadi 16x8 inci. Kemudian, dua subplot dibuat: yang pertama untuk menampilkan grafik akurasi model dan yang kedua untuk menampilkan grafik loss model. Fungsi `plot_graphs` dipanggil untuk menggambar grafik berdasarkan data pelatihan yang tersimpan dalam `history`, dengan batas y-axis yang disesuaikan untuk setiap grafik. Grafik-grafik ini membantu untuk memahami performa model selama pelatihan."
      ],
      "metadata": {
        "id": "X_7IYlLG5O5v"
      }
    },
    {
      "cell_type": "markdown",
      "metadata": {
        "id": "0GdiCQDDaK7B"
      },
      "source": [
        "Jalankan prediksi pada kalimat baru:\n",
        "\n",
        "Jika prediksi >= 0,0 berarti positif, jika tidak maka negatif."
      ]
    },
    {
      "cell_type": "code",
      "execution_count": null,
      "metadata": {
        "id": "SB0U-XW0aK7C",
        "colab": {
          "base_uri": "https://localhost:8080/"
        },
        "outputId": "f8a45111-f24e-444c-d88f-8620ebc99cc1"
      },
      "outputs": [
        {
          "output_type": "stream",
          "name": "stdout",
          "text": [
            "\u001b[1m1/1\u001b[0m \u001b[32m━━━━━━━━━━━━━━━━━━━━\u001b[0m\u001b[37m\u001b[0m \u001b[1m0s\u001b[0m 18ms/step\n",
            "[0.84650177]\n"
          ]
        }
      ],
      "source": [
        "import numpy as np\n",
        "import tensorflow as tf\n",
        "\n",
        "sample_text = ('The movie was cool. The animation and the graphics '\n",
        "               'were out of this world. I would recommend this movie.')\n",
        "\n",
        "# Mengonversi teks menjadi tensor\n",
        "sample_tensor = tf.convert_to_tensor([sample_text])\n",
        "\n",
        "# Prediksi menggunakan model\n",
        "predictions = model.predict(sample_tensor)\n",
        "print(predictions[0])"
      ]
    },
    {
      "cell_type": "markdown",
      "source": [
        "Kode yang Anda berikan mengonversi sebuah ulasan film menjadi tensor menggunakan TensorFlow dan kemudian menggunakan model untuk melakukan prediksi. Pertama, ulasan film didefinisikan dalam variabel `sample_text`. Setelah itu, teks ini diubah menjadi tensor dengan fungsi `tf.convert_to_tensor()`. Kemudian, model melakukan prediksi pada tensor tersebut dan hasilnya dicetak. Output yang dihasilkan menunjukkan nilai prediksi, yang biasanya merepresentasikan seberapa besar kemungkinan ulasan tersebut positif atau negatif."
      ],
      "metadata": {
        "id": "-_cG5QDE58_H"
      }
    },
    {
      "cell_type": "markdown",
      "metadata": {
        "id": "zwXycizRaK7C"
      },
      "source": [
        "# **Stack two or more LSTM layers**"
      ]
    },
    {
      "cell_type": "code",
      "execution_count": null,
      "metadata": {
        "id": "jWuojrXoaK7C"
      },
      "outputs": [],
      "source": [
        "model = tf.keras.Sequential([\n",
        "    encoder,\n",
        "    tf.keras.layers.Embedding(len(encoder.get_vocabulary()), 64, mask_zero=True),\n",
        "    tf.keras.layers.Bidirectional(tf.keras.layers.LSTM(64, return_sequences=True)),\n",
        "    tf.keras.layers.Bidirectional(tf.keras.layers.LSTM(32)),\n",
        "    tf.keras.layers.Dense(64, activation='relu'),\n",
        "    tf.keras.layers.Dropout(0.5),\n",
        "    tf.keras.layers.Dense(1)\n",
        "])"
      ]
    },
    {
      "cell_type": "markdown",
      "source": [
        "Kode tersebut mendefinisikan sebuah model jaringan saraf menggunakan TensorFlow Keras. Model ini merupakan model sekuensial yang terdiri dari beberapa lapisan. Pertama, ada encoder yang memproses data input, diikuti oleh lapisan embedding yang mengonversi kata menjadi vektor berdimensi 64 dengan dukungan untuk masking. Kemudian, terdapat dua lapisan LSTM yang saling terhubung dua arah (Bidirectional), yang membantu model menangkap konteks dari kedua arah dalam data sekuensial. Setelah itu, lapisan Dense dengan aktivasi ReLU ditambahkan untuk menghasilkan representasi fitur yang lebih kompleks, diikuti oleh lapisan Dropout untuk mencegah overfitting. Akhirnya, lapisan Dense terakhir menghasilkan output dengan satu neuron, yang biasanya digunakan untuk prediksi biner."
      ],
      "metadata": {
        "id": "l1TCBFYJ6vIp"
      }
    },
    {
      "cell_type": "code",
      "execution_count": null,
      "metadata": {
        "id": "PiHqPWjHaK7C"
      },
      "outputs": [],
      "source": [
        "model.compile(loss=tf.keras.losses.BinaryCrossentropy(from_logits=True),\n",
        "              optimizer=tf.keras.optimizers.Adam(1e-4),\n",
        "              metrics=['accuracy'])"
      ]
    },
    {
      "cell_type": "markdown",
      "source": [
        "Kode ini digunakan untuk mengonfigurasi model sebelum dilatih. Metode `compile` menetapkan fungsi kehilangan yang digunakan untuk menghitung kesalahan model, dalam hal ini menggunakan **Binary Crossentropy** dengan parameter `from_logits=True`, yang berarti model menghasilkan nilai logit yang belum melalui fungsi aktivasi. Kemudian, optimizer yang digunakan adalah **Adam** dengan learning rate sebesar \\(1 \\times 10^{-4}\\), yang membantu mempercepat proses pembelajaran. Terakhir, metrik yang ingin dilacak selama pelatihan adalah **akurasi**, yang memberikan gambaran tentang seberapa baik model melakukan prediksi yang benar selama pelatihan dan pengujian."
      ],
      "metadata": {
        "id": "Gg-9zM6-6ygk"
      }
    },
    {
      "cell_type": "code",
      "execution_count": null,
      "metadata": {
        "id": "fLpQt2dpaK7C",
        "colab": {
          "base_uri": "https://localhost:8080/"
        },
        "outputId": "d72553de-3ef8-4832-8252-f9daa760b432"
      },
      "outputs": [
        {
          "output_type": "stream",
          "name": "stdout",
          "text": [
            "Epoch 1/10\n",
            "\u001b[1m391/391\u001b[0m \u001b[32m━━━━━━━━━━━━━━━━━━━━\u001b[0m\u001b[37m\u001b[0m \u001b[1m53s\u001b[0m 117ms/step - accuracy: 0.5130 - loss: 0.6749 - val_accuracy: 0.8156 - val_loss: 0.4154\n",
            "Epoch 2/10\n",
            "\u001b[1m391/391\u001b[0m \u001b[32m━━━━━━━━━━━━━━━━━━━━\u001b[0m\u001b[37m\u001b[0m \u001b[1m78s\u001b[0m 113ms/step - accuracy: 0.8238 - loss: 0.3930 - val_accuracy: 0.8542 - val_loss: 0.3296\n",
            "Epoch 3/10\n",
            "\u001b[1m391/391\u001b[0m \u001b[32m━━━━━━━━━━━━━━━━━━━━\u001b[0m\u001b[37m\u001b[0m \u001b[1m46s\u001b[0m 118ms/step - accuracy: 0.8453 - loss: 0.3473 - val_accuracy: 0.8656 - val_loss: 0.3344\n",
            "Epoch 4/10\n",
            "\u001b[1m391/391\u001b[0m \u001b[32m━━━━━━━━━━━━━━━━━━━━\u001b[0m\u001b[37m\u001b[0m \u001b[1m80s\u001b[0m 112ms/step - accuracy: 0.8577 - loss: 0.3286 - val_accuracy: 0.8573 - val_loss: 0.3333\n",
            "Epoch 5/10\n",
            "\u001b[1m391/391\u001b[0m \u001b[32m━━━━━━━━━━━━━━━━━━━━\u001b[0m\u001b[37m\u001b[0m \u001b[1m44s\u001b[0m 113ms/step - accuracy: 0.8668 - loss: 0.3098 - val_accuracy: 0.8589 - val_loss: 0.3276\n",
            "Epoch 6/10\n",
            "\u001b[1m391/391\u001b[0m \u001b[32m━━━━━━━━━━━━━━━━━━━━\u001b[0m\u001b[37m\u001b[0m \u001b[1m82s\u001b[0m 113ms/step - accuracy: 0.8710 - loss: 0.3054 - val_accuracy: 0.8547 - val_loss: 0.3230\n",
            "Epoch 7/10\n",
            "\u001b[1m391/391\u001b[0m \u001b[32m━━━━━━━━━━━━━━━━━━━━\u001b[0m\u001b[37m\u001b[0m \u001b[1m83s\u001b[0m 116ms/step - accuracy: 0.8645 - loss: 0.3094 - val_accuracy: 0.8333 - val_loss: 0.3399\n",
            "Epoch 8/10\n",
            "\u001b[1m391/391\u001b[0m \u001b[32m━━━━━━━━━━━━━━━━━━━━\u001b[0m\u001b[37m\u001b[0m \u001b[1m81s\u001b[0m 114ms/step - accuracy: 0.8631 - loss: 0.3118 - val_accuracy: 0.8667 - val_loss: 0.3137\n",
            "Epoch 9/10\n",
            "\u001b[1m391/391\u001b[0m \u001b[32m━━━━━━━━━━━━━━━━━━━━\u001b[0m\u001b[37m\u001b[0m \u001b[1m44s\u001b[0m 112ms/step - accuracy: 0.8651 - loss: 0.3052 - val_accuracy: 0.8568 - val_loss: 0.3111\n",
            "Epoch 10/10\n",
            "\u001b[1m391/391\u001b[0m \u001b[32m━━━━━━━━━━━━━━━━━━━━\u001b[0m\u001b[37m\u001b[0m \u001b[1m82s\u001b[0m 113ms/step - accuracy: 0.8670 - loss: 0.3032 - val_accuracy: 0.8005 - val_loss: 0.3480\n"
          ]
        }
      ],
      "source": [
        "history = model.fit(train_dataset, epochs=10,\n",
        "                    validation_data=test_dataset,\n",
        "                    validation_steps=30)"
      ]
    },
    {
      "cell_type": "markdown",
      "source": [
        "Kode ini digunakan untuk melatih model dengan dataset pelatihan (`train_dataset`) selama 10 epoch. Setiap epoch, model menghitung akurasi dan kehilangan (loss) untuk data pelatihan, serta menguji kinerjanya dengan data validasi (`test_dataset`). Dari output, kita dapat melihat peningkatan akurasi dari epoch ke epoch, menunjukkan bahwa model belajar dengan baik dari data pelatihan. Namun, di epoch terakhir, akurasi validasi menurun sedikit, yang mungkin menunjukkan tanda overfitting.\n",
        "\n",
        "Secara keseluruhan, hasil menunjukkan bahwa model dapat meningkatkan kinerjanya pada data pelatihan, tetapi perhatian perlu diberikan pada performanya pada data validasi untuk memastikan generalisasi yang baik."
      ],
      "metadata": {
        "id": "ctqWSXak9HRK"
      }
    },
    {
      "cell_type": "code",
      "execution_count": null,
      "metadata": {
        "id": "JYbS4hC5aK7E",
        "colab": {
          "base_uri": "https://localhost:8080/"
        },
        "outputId": "ac436d21-fe5f-4932-e3b3-429ed77a173d"
      },
      "outputs": [
        {
          "output_type": "stream",
          "name": "stdout",
          "text": [
            "\u001b[1m391/391\u001b[0m \u001b[32m━━━━━━━━━━━━━━━━━━━━\u001b[0m\u001b[37m\u001b[0m \u001b[1m22s\u001b[0m 57ms/step - accuracy: 0.8081 - loss: 0.3511\n",
            "Test Loss: 0.35120368003845215\n",
            "Test Accuracy: 0.8068400025367737\n"
          ]
        }
      ],
      "source": [
        "test_loss, test_acc = model.evaluate(test_dataset)\n",
        "\n",
        "print('Test Loss:', test_loss)\n",
        "print('Test Accuracy:', test_acc)"
      ]
    },
    {
      "cell_type": "markdown",
      "source": [
        "Kode ini digunakan untuk mengevaluasi kinerja model pada dataset pengujian (`test_dataset`). Fungsi `model.evaluate` menghitung kehilangan (loss) dan akurasi (accuracy) model saat diterapkan pada data pengujian. Dari output, kita bisa melihat bahwa model memiliki akurasi sekitar 80,68% dan kehilangan sebesar 0,3511. Hasil ini menunjukkan bahwa model mampu mengklasifikasikan data pengujian dengan cukup baik, meskipun ada ruang untuk perbaikan lebih lanjut dalam akurasi. Angka kehilangan yang lebih rendah juga mengindikasikan bahwa model melakukan prediksi yang lebih akurat pada data yang belum pernah dilihat sebelumnya."
      ],
      "metadata": {
        "id": "ZRd-wnMr9YU5"
      }
    },
    {
      "cell_type": "code",
      "execution_count": null,
      "metadata": {
        "id": "aECGhAMVaK7E",
        "colab": {
          "base_uri": "https://localhost:8080/"
        },
        "outputId": "9154abb7-9d7b-4baf-a2ea-a658cd993686"
      },
      "outputs": [
        {
          "output_type": "stream",
          "name": "stdout",
          "text": [
            "\u001b[1m1/1\u001b[0m \u001b[32m━━━━━━━━━━━━━━━━━━━━\u001b[0m\u001b[37m\u001b[0m \u001b[1m0s\u001b[0m 20ms/step\n",
            "[[-2.2348907]]\n"
          ]
        }
      ],
      "source": [
        "import numpy as np\n",
        "import tensorflow as tf\n",
        "\n",
        "sample_text = ('The movie was not good. The animation and the graphics '\n",
        "                'were terrible. I would not recommend this movie.')\n",
        "\n",
        "# Mengonversi teks menjadi tensor\n",
        "sample_tensor = tf.convert_to_tensor([sample_text])\n",
        "\n",
        "# Prediksi menggunakan model\n",
        "predictions = model.predict(sample_tensor)\n",
        "print(predictions)"
      ]
    },
    {
      "cell_type": "markdown",
      "source": [
        "Kode program ini digunakan untuk melakukan prediksi pada teks menggunakan model TensorFlow. Pertama, teks ulasan film negatif didefinisikan dan kemudian diubah menjadi format tensor yang dapat diproses oleh model. Setelah itu, model memprediksi hasil berdasarkan teks tersebut. Hasil prediksi, yang berupa nilai negatif, menunjukkan bahwa model menganggap ulasan itu tidak positif. Ini bisa berarti bahwa model mengklasifikasikan ulasan tersebut sebagai buruk."
      ],
      "metadata": {
        "id": "LwHCQ2mw96G-"
      }
    },
    {
      "cell_type": "code",
      "execution_count": null,
      "metadata": {
        "id": "bK8QMwn1aK7E",
        "colab": {
          "base_uri": "https://localhost:8080/",
          "height": 391
        },
        "outputId": "151c6744-1bf1-4463-8171-3121da243403"
      },
      "outputs": [
        {
          "output_type": "display_data",
          "data": {
            "text/plain": [
              "<Figure size 1600x600 with 2 Axes>"
            ],
            "image/png": "[encoded data removed]"
          },
          "metadata": {}
        }
      ],
      "source": [
        "plt.figure(figsize=(16, 6))\n",
        "plt.subplot(1, 2, 1)\n",
        "plot_graphs(history, 'accuracy')\n",
        "plt.subplot(1, 2, 2)\n",
        "plot_graphs(history, 'loss')"
      ]
    },
    {
      "cell_type": "markdown",
      "source": [
        "Kode ini digunakan untuk membuat visualisasi dari riwayat pelatihan model menggunakan Matplotlib. Pada bagian pertama, ukuran figur diatur agar lebih lebar, yaitu 16x6 inci. Kemudian, dua subplot dibuat: yang pertama untuk menampilkan grafik akurasi model selama pelatihan dengan memanggil fungsi `plot_graphs` dan yang kedua untuk menampilkan grafik loss. Ini membantu dalam memantau performa model dan memahami bagaimana akurasi dan loss berubah seiring dengan waktu pelatihan."
      ],
      "metadata": {
        "id": "d-GvSAsR9_Up"
      }
    },
    {
      "cell_type": "markdown",
      "source": [
        "# Praktikum 2 Generator Teks dengan RNN"
      ],
      "metadata": {
        "id": "F4wYP85L0vpo"
      }
    },
    {
      "cell_type": "markdown",
      "source": [
        "# Setup"
      ],
      "metadata": {
        "id": "6eZDdg__CH6n"
      }
    },
    {
      "cell_type": "code",
      "source": [
        "import tensorflow as tf\n",
        "import numpy as np\n",
        "import os\n",
        "import time"
      ],
      "metadata": {
        "id": "IU4ejgb01D6K"
      },
      "execution_count": null,
      "outputs": []
    },
    {
      "cell_type": "code",
      "source": [
        "path_to_file = tf.keras.utils.get_file('shakespeare.txt', 'https://storage.googleapis.com/download.tensorflow.org/data/shakespeare.txt')"
      ],
      "metadata": {
        "colab": {
          "base_uri": "https://localhost:8080/"
        },
        "id": "yfvw2sLuCMml",
        "outputId": "4ce53562-bb78-40c3-adbd-7276a3a8f123"
      },
      "execution_count": null,
      "outputs": [
        {
          "output_type": "stream",
          "name": "stdout",
          "text": [
            "Downloading data from https://storage.googleapis.com/download.tensorflow.org/data/shakespeare.txt\n",
            "\u001b[1m1115394/1115394\u001b[0m \u001b[32m━━━━━━━━━━━━━━━━━━━━\u001b[0m\u001b[37m\u001b[0m \u001b[1m0s\u001b[0m 0us/step\n"
          ]
        }
      ]
    },
    {
      "cell_type": "markdown",
      "source": [
        "# Load Data"
      ],
      "metadata": {
        "id": "3ibe22rxCUtV"
      }
    },
    {
      "cell_type": "code",
      "source": [
        "# Read, then decode for py2 compat.\n",
        "text = open(path_to_file, 'rb').read().decode(encoding='utf-8')\n",
        "# length of text is the number of characters in it\n",
        "print(f'Length of text: {len(text)} characters')"
      ],
      "metadata": {
        "colab": {
          "base_uri": "https://localhost:8080/"
        },
        "id": "mQF0ev_UCUR4",
        "outputId": "90d1d9dd-9ecd-474e-e1a2-062f3be6977a"
      },
      "execution_count": null,
      "outputs": [
        {
          "output_type": "stream",
          "name": "stdout",
          "text": [
            "Length of text: 1115394 characters\n"
          ]
        }
      ]
    },
    {
      "cell_type": "code",
      "source": [
        "# Take a look at the first 250 characters in text\n",
        "print(text[:250])"
      ],
      "metadata": {
        "colab": {
          "base_uri": "https://localhost:8080/"
        },
        "id": "fDU2dZZHCYh0",
        "outputId": "7c177312-ff56-4f0f-dac8-7deccece23d1"
      },
      "execution_count": null,
      "outputs": [
        {
          "output_type": "stream",
          "name": "stdout",
          "text": [
            "First Citizen:\n",
            "Before we proceed any further, hear me speak.\n",
            "\n",
            "All:\n",
            "Speak, speak.\n",
            "\n",
            "First Citizen:\n",
            "You are all resolved rather to die than to famish?\n",
            "\n",
            "All:\n",
            "Resolved. resolved.\n",
            "\n",
            "First Citizen:\n",
            "First, you know Caius Marcius is chief enemy to the people.\n",
            "\n"
          ]
        }
      ]
    },
    {
      "cell_type": "code",
      "source": [
        "# The unique characters in the file\n",
        "vocab = sorted(set(text))\n",
        "print(f'{len(vocab)} unique characters')"
      ],
      "metadata": {
        "colab": {
          "base_uri": "https://localhost:8080/"
        },
        "id": "94-xWCg-Cbyo",
        "outputId": "07cb7eff-c5b5-4a92-9ed8-ddb0683bff2b"
      },
      "execution_count": null,
      "outputs": [
        {
          "output_type": "stream",
          "name": "stdout",
          "text": [
            "65 unique characters\n"
          ]
        }
      ]
    },
    {
      "cell_type": "markdown",
      "source": [
        "# Olah Teks\n",
        "## Vectorize Teks"
      ],
      "metadata": {
        "id": "pOirw-1FCfX3"
      }
    },
    {
      "cell_type": "code",
      "source": [
        "example_texts = ['abcdefg', 'xyz']\n",
        "chars = tf.strings.unicode_split(example_texts, input_encoding='UTF-8')\n",
        "chars"
      ],
      "metadata": {
        "colab": {
          "base_uri": "https://localhost:8080/"
        },
        "id": "M9i453RRCfJm",
        "outputId": "e4dd9684-4d63-47cc-cc17-a5029de293ad"
      },
      "execution_count": null,
      "outputs": [
        {
          "output_type": "execute_result",
          "data": {
            "text/plain": [
              "<tf.RaggedTensor [[b'a', b'b', b'c', b'd', b'e', b'f', b'g'], [b'x', b'y', b'z']]>"
            ]
          },
          "metadata": {},
          "execution_count": 43
        }
      ]
    },
    {
      "cell_type": "code",
      "source": [
        "ids_from_chars = tf.keras.layers.StringLookup(\n",
        "vocabulary=list(vocab), mask_token=None)"
      ],
      "metadata": {
        "id": "FzmajEqXCqVe"
      },
      "execution_count": null,
      "outputs": []
    },
    {
      "cell_type": "code",
      "source": [
        "ids = ids_from_chars(chars)\n",
        "ids"
      ],
      "metadata": {
        "colab": {
          "base_uri": "https://localhost:8080/"
        },
        "id": "Nn0PEUTnCsAI",
        "outputId": "ab543a38-0c4d-4aae-dd91-b3f8e1145eee"
      },
      "execution_count": null,
      "outputs": [
        {
          "output_type": "execute_result",
          "data": {
            "text/plain": [
              "<tf.RaggedTensor [[40, 41, 42, 43, 44, 45, 46], [63, 64, 65]]>"
            ]
          },
          "metadata": {},
          "execution_count": 45
        }
      ]
    },
    {
      "cell_type": "code",
      "source": [
        "chars_from_ids = tf.keras.layers.StringLookup(\n",
        "    vocabulary=ids_from_chars.get_vocabulary(), invert=True, mask_token=None)"
      ],
      "metadata": {
        "id": "LBSj-mGmCuiM"
      },
      "execution_count": null,
      "outputs": []
    },
    {
      "cell_type": "code",
      "source": [
        "chars = chars_from_ids(ids)\n",
        "chars"
      ],
      "metadata": {
        "colab": {
          "base_uri": "https://localhost:8080/"
        },
        "id": "SekTU4OCCwGC",
        "outputId": "e8575ab3-6eb4-4af9-d96d-d373283d87c4"
      },
      "execution_count": null,
      "outputs": [
        {
          "output_type": "execute_result",
          "data": {
            "text/plain": [
              "<tf.RaggedTensor [[b'a', b'b', b'c', b'd', b'e', b'f', b'g'], [b'x', b'y', b'z']]>"
            ]
          },
          "metadata": {},
          "execution_count": 47
        }
      ]
    },
    {
      "cell_type": "code",
      "source": [
        "tf.strings.reduce_join(chars, axis=-1).numpy()"
      ],
      "metadata": {
        "colab": {
          "base_uri": "https://localhost:8080/"
        },
        "id": "9myKqR5nCysE",
        "outputId": "371542d6-0aff-4cca-fb9b-262573550d12"
      },
      "execution_count": null,
      "outputs": [
        {
          "output_type": "execute_result",
          "data": {
            "text/plain": [
              "array([b'abcdefg', b'xyz'], dtype=object)"
            ]
          },
          "metadata": {},
          "execution_count": 48
        }
      ]
    },
    {
      "cell_type": "code",
      "source": [
        "def text_from_ids(ids):\n",
        "    return tf.strings.reduce_join(chars_from_ids(ids), axis=-1)"
      ],
      "metadata": {
        "id": "d3di0C9-Cz7m"
      },
      "execution_count": null,
      "outputs": []
    },
    {
      "cell_type": "markdown",
      "source": [
        "# Prediksi\n",
        "## Membuat Trianing Set dan Target"
      ],
      "metadata": {
        "id": "rj9QzSnmC1FK"
      }
    },
    {
      "cell_type": "code",
      "source": [
        "all_ids = ids_from_chars(tf.strings.unicode_split(text, 'UTF-8'))\n",
        "all_ids"
      ],
      "metadata": {
        "colab": {
          "base_uri": "https://localhost:8080/"
        },
        "id": "E_k-bKRtC7Ex",
        "outputId": "b3e5f663-4994-4f9a-db9d-153ad5d9569a"
      },
      "execution_count": null,
      "outputs": [
        {
          "output_type": "execute_result",
          "data": {
            "text/plain": [
              "<tf.Tensor: shape=(1115394,), dtype=int64, numpy=array([19, 48, 57, ..., 46,  9,  1])>"
            ]
          },
          "metadata": {},
          "execution_count": 51
        }
      ]
    },
    {
      "cell_type": "code",
      "source": [
        "ids_dataset = tf.data.Dataset.from_tensor_slices(all_ids)"
      ],
      "metadata": {
        "id": "ZEofTW_-C_iU"
      },
      "execution_count": null,
      "outputs": []
    },
    {
      "cell_type": "code",
      "source": [
        "for ids in ids_dataset.take(10):\n",
        "    print(chars_from_ids(ids).numpy().decode('utf-8'))"
      ],
      "metadata": {
        "colab": {
          "base_uri": "https://localhost:8080/"
        },
        "id": "ir2zOYvbDAyu",
        "outputId": "c1dec367-e67e-4f77-feea-ffb8b96d54be"
      },
      "execution_count": null,
      "outputs": [
        {
          "output_type": "stream",
          "name": "stdout",
          "text": [
            "F\n",
            "i\n",
            "r\n",
            "s\n",
            "t\n",
            " \n",
            "C\n",
            "i\n",
            "t\n",
            "i\n"
          ]
        }
      ]
    },
    {
      "cell_type": "code",
      "source": [
        "seq_length = 100"
      ],
      "metadata": {
        "id": "SGAlsSwpDEa_"
      },
      "execution_count": null,
      "outputs": []
    },
    {
      "cell_type": "code",
      "source": [
        "sequences = ids_dataset.batch(seq_length+1, drop_remainder=True)\n",
        "\n",
        "for seq in sequences.take(1):\n",
        "  print(chars_from_ids(seq))"
      ],
      "metadata": {
        "colab": {
          "base_uri": "https://localhost:8080/"
        },
        "id": "BQT_Rtv4DGgH",
        "outputId": "fef0d2d9-25b5-4ff3-896a-1eb045cd2f7d"
      },
      "execution_count": null,
      "outputs": [
        {
          "output_type": "stream",
          "name": "stdout",
          "text": [
            "tf.Tensor(\n",
            "[b'F' b'i' b'r' b's' b't' b' ' b'C' b'i' b't' b'i' b'z' b'e' b'n' b':'\n",
            " b'\\n' b'B' b'e' b'f' b'o' b'r' b'e' b' ' b'w' b'e' b' ' b'p' b'r' b'o'\n",
            " b'c' b'e' b'e' b'd' b' ' b'a' b'n' b'y' b' ' b'f' b'u' b'r' b't' b'h'\n",
            " b'e' b'r' b',' b' ' b'h' b'e' b'a' b'r' b' ' b'm' b'e' b' ' b's' b'p'\n",
            " b'e' b'a' b'k' b'.' b'\\n' b'\\n' b'A' b'l' b'l' b':' b'\\n' b'S' b'p' b'e'\n",
            " b'a' b'k' b',' b' ' b's' b'p' b'e' b'a' b'k' b'.' b'\\n' b'\\n' b'F' b'i'\n",
            " b'r' b's' b't' b' ' b'C' b'i' b't' b'i' b'z' b'e' b'n' b':' b'\\n' b'Y'\n",
            " b'o' b'u' b' '], shape=(101,), dtype=string)\n"
          ]
        }
      ]
    },
    {
      "cell_type": "code",
      "source": [
        "for seq in sequences.take(5):\n",
        "    print(text_from_ids(seq).numpy())"
      ],
      "metadata": {
        "colab": {
          "base_uri": "https://localhost:8080/"
        },
        "id": "B0uGMrj0DIyk",
        "outputId": "7d7abfaa-de10-4f56-c559-c2b30dce67ea"
      },
      "execution_count": null,
      "outputs": [
        {
          "output_type": "stream",
          "name": "stdout",
          "text": [
            "b'First Citizen:\\nBefore we proceed any further, hear me speak.\\n\\nAll:\\nSpeak, speak.\\n\\nFirst Citizen:\\nYou '\n",
            "b'are all resolved rather to die than to famish?\\n\\nAll:\\nResolved. resolved.\\n\\nFirst Citizen:\\nFirst, you k'\n",
            "b\"now Caius Marcius is chief enemy to the people.\\n\\nAll:\\nWe know't, we know't.\\n\\nFirst Citizen:\\nLet us ki\"\n",
            "b\"ll him, and we'll have corn at our own price.\\nIs't a verdict?\\n\\nAll:\\nNo more talking on't; let it be d\"\n",
            "b'one: away, away!\\n\\nSecond Citizen:\\nOne word, good citizens.\\n\\nFirst Citizen:\\nWe are accounted poor citi'\n"
          ]
        }
      ]
    },
    {
      "cell_type": "code",
      "source": [
        "def split_input_target(sequence):\n",
        "    input_text = sequence[:-1]\n",
        "    target_text = sequence[1:]\n",
        "    return input_text, target_text"
      ],
      "metadata": {
        "id": "GbwXxCXvDJ8j"
      },
      "execution_count": null,
      "outputs": []
    },
    {
      "cell_type": "code",
      "source": [
        "split_input_target(list(\"Tensorflow\"))"
      ],
      "metadata": {
        "colab": {
          "base_uri": "https://localhost:8080/"
        },
        "id": "alQa5otFDLK9",
        "outputId": "b48e30b3-0d8d-4cc4-8891-662c6ee3e22c"
      },
      "execution_count": null,
      "outputs": [
        {
          "output_type": "execute_result",
          "data": {
            "text/plain": [
              "(['T', 'e', 'n', 's', 'o', 'r', 'f', 'l', 'o'],\n",
              " ['e', 'n', 's', 'o', 'r', 'f', 'l', 'o', 'w'])"
            ]
          },
          "metadata": {},
          "execution_count": 58
        }
      ]
    },
    {
      "cell_type": "code",
      "source": [
        "dataset = sequences.map(split_input_target)"
      ],
      "metadata": {
        "id": "qQ69ilDkDNFI"
      },
      "execution_count": null,
      "outputs": []
    },
    {
      "cell_type": "code",
      "source": [
        "for input_example, target_example in dataset.take(1):\n",
        "    print(\"Input :\", text_from_ids(input_example).numpy())\n",
        "    print(\"Target:\", text_from_ids(target_example).numpy())"
      ],
      "metadata": {
        "colab": {
          "base_uri": "https://localhost:8080/"
        },
        "id": "ovTpn5GqDOgP",
        "outputId": "a80914ea-2202-41ac-cb6e-b30935b7d7f7"
      },
      "execution_count": null,
      "outputs": [
        {
          "output_type": "stream",
          "name": "stdout",
          "text": [
            "Input : b'First Citizen:\\nBefore we proceed any further, hear me speak.\\n\\nAll:\\nSpeak, speak.\\n\\nFirst Citizen:\\nYou'\n",
            "Target: b'irst Citizen:\\nBefore we proceed any further, hear me speak.\\n\\nAll:\\nSpeak, speak.\\n\\nFirst Citizen:\\nYou '\n"
          ]
        }
      ]
    },
    {
      "cell_type": "markdown",
      "source": [
        "## Membuat Batch Training"
      ],
      "metadata": {
        "id": "KTnpMY1XDQeQ"
      }
    },
    {
      "cell_type": "code",
      "source": [
        "# Batch size\n",
        "BATCH_SIZE = 64\n",
        "\n",
        "# Buffer size to shuffle the dataset\n",
        "# (TF data is designed to work with possibly infinite sequences,\n",
        "# so it doesn't attempt to shuffle the entire sequence in memory. Instead,\n",
        "# it maintains a buffer in which it shuffles elements).\n",
        "BUFFER_SIZE = 10000\n",
        "\n",
        "dataset = (\n",
        "    dataset\n",
        "    .shuffle(BUFFER_SIZE)\n",
        "    .batch(BATCH_SIZE, drop_remainder=True)\n",
        "    .prefetch(tf.data.experimental.AUTOTUNE))\n",
        "\n",
        "dataset"
      ],
      "metadata": {
        "colab": {
          "base_uri": "https://localhost:8080/"
        },
        "id": "E0BQtSk9DS0h",
        "outputId": "3acf6d16-74fd-4e60-fb4a-9bec33a9690c"
      },
      "execution_count": null,
      "outputs": [
        {
          "output_type": "execute_result",
          "data": {
            "text/plain": [
              "<_PrefetchDataset element_spec=(TensorSpec(shape=(64, 100), dtype=tf.int64, name=None), TensorSpec(shape=(64, 100), dtype=tf.int64, name=None))>"
            ]
          },
          "metadata": {},
          "execution_count": 61
        }
      ]
    },
    {
      "cell_type": "markdown",
      "source": [
        "# Buat Model"
      ],
      "metadata": {
        "id": "DNKQeDPYDV_N"
      }
    },
    {
      "cell_type": "code",
      "source": [
        "# Length of the vocabulary in StringLookup Layer\n",
        "vocab_size = len(ids_from_chars.get_vocabulary())\n",
        "\n",
        "# The embedding dimension\n",
        "embedding_dim = 256\n",
        "\n",
        "# Number of RNN units\n",
        "rnn_units = 1024"
      ],
      "metadata": {
        "id": "SsmcKZZnDXAQ"
      },
      "execution_count": null,
      "outputs": []
    },
    {
      "cell_type": "code",
      "source": [
        "class MyModel(tf.keras.Model):\n",
        "  def __init__(self, vocab_size, embedding_dim, rnn_units):\n",
        "    super().__init__(self)\n",
        "    self.embedding = tf.keras.layers.Embedding(vocab_size, embedding_dim)\n",
        "    self.gru = tf.keras.layers.GRU(rnn_units,\n",
        "                                   return_sequences=True,\n",
        "                                   return_state=True)\n",
        "    self.dense = tf.keras.layers.Dense(vocab_size)\n",
        "\n",
        "  def call(self, inputs, states=None, return_state=False, training=False):\n",
        "    x = inputs\n",
        "    x = self.embedding(x, training=training)\n",
        "    if states is None:\n",
        "      states = self.gru.get_initial_state(x)\n",
        "    x, states = self.gru(x, initial_state=states, training=training)\n",
        "    x = self.dense(x, training=training)\n",
        "\n",
        "    if return_state:\n",
        "      return x, states\n",
        "    else:\n",
        "      return x"
      ],
      "metadata": {
        "id": "HSA_jY98DaEe"
      },
      "execution_count": null,
      "outputs": []
    },
    {
      "cell_type": "code",
      "source": [
        "model = MyModel(\n",
        "    vocab_size=vocab_size,\n",
        "    embedding_dim=embedding_dim,\n",
        "    rnn_units=rnn_units)"
      ],
      "metadata": {
        "colab": {
          "base_uri": "https://localhost:8080/",
          "height": 339
        },
        "id": "LZq7L6YdDbQ8",
        "outputId": "264a234a-317d-4c78-e984-17feb7a2e33e"
      },
      "execution_count": null,
      "outputs": [
        {
          "output_type": "error",
          "ename": "TypeError",
          "evalue": "Layer.__init__() takes 1 positional argument but 2 were given",
          "traceback": [
            "\u001b[0;31m---------------------------------------------------------------------------\u001b[0m",
            "\u001b[0;31mTypeError\u001b[0m                                 Traceback (most recent call last)",
            "\u001b[0;32m<ipython-input-65-22c72b60a6be>\u001b[0m in \u001b[0;36m<cell line: 1>\u001b[0;34m()\u001b[0m\n\u001b[0;32m----> 1\u001b[0;31m model = MyModel(\n\u001b[0m\u001b[1;32m      2\u001b[0m     \u001b[0mvocab_size\u001b[0m\u001b[0;34m=\u001b[0m\u001b[0mvocab_size\u001b[0m\u001b[0;34m,\u001b[0m\u001b[0;34m\u001b[0m\u001b[0;34m\u001b[0m\u001b[0m\n\u001b[1;32m      3\u001b[0m     \u001b[0membedding_dim\u001b[0m\u001b[0;34m=\u001b[0m\u001b[0membedding_dim\u001b[0m\u001b[0;34m,\u001b[0m\u001b[0;34m\u001b[0m\u001b[0;34m\u001b[0m\u001b[0m\n\u001b[1;32m      4\u001b[0m     rnn_units=rnn_units)\n",
            "\u001b[0;32m<ipython-input-63-b0880e9cbdeb>\u001b[0m in \u001b[0;36m__init__\u001b[0;34m(self, vocab_size, embedding_dim, rnn_units)\u001b[0m\n\u001b[1;32m      1\u001b[0m \u001b[0;32mclass\u001b[0m \u001b[0mMyModel\u001b[0m\u001b[0;34m(\u001b[0m\u001b[0mtf\u001b[0m\u001b[0;34m.\u001b[0m\u001b[0mkeras\u001b[0m\u001b[0;34m.\u001b[0m\u001b[0mModel\u001b[0m\u001b[0;34m)\u001b[0m\u001b[0;34m:\u001b[0m\u001b[0;34m\u001b[0m\u001b[0;34m\u001b[0m\u001b[0m\n\u001b[1;32m      2\u001b[0m   \u001b[0;32mdef\u001b[0m \u001b[0m__init__\u001b[0m\u001b[0;34m(\u001b[0m\u001b[0mself\u001b[0m\u001b[0;34m,\u001b[0m \u001b[0mvocab_size\u001b[0m\u001b[0;34m,\u001b[0m \u001b[0membedding_dim\u001b[0m\u001b[0;34m,\u001b[0m \u001b[0mrnn_units\u001b[0m\u001b[0;34m)\u001b[0m\u001b[0;34m:\u001b[0m\u001b[0;34m\u001b[0m\u001b[0;34m\u001b[0m\u001b[0m\n\u001b[0;32m----> 3\u001b[0;31m     \u001b[0msuper\u001b[0m\u001b[0;34m(\u001b[0m\u001b[0;34m)\u001b[0m\u001b[0;34m.\u001b[0m\u001b[0m__init__\u001b[0m\u001b[0;34m(\u001b[0m\u001b[0mself\u001b[0m\u001b[0;34m)\u001b[0m\u001b[0;34m\u001b[0m\u001b[0;34m\u001b[0m\u001b[0m\n\u001b[0m\u001b[1;32m      4\u001b[0m     \u001b[0mself\u001b[0m\u001b[0;34m.\u001b[0m\u001b[0membedding\u001b[0m \u001b[0;34m=\u001b[0m \u001b[0mtf\u001b[0m\u001b[0;34m.\u001b[0m\u001b[0mkeras\u001b[0m\u001b[0;34m.\u001b[0m\u001b[0mlayers\u001b[0m\u001b[0;34m.\u001b[0m\u001b[0mEmbedding\u001b[0m\u001b[0;34m(\u001b[0m\u001b[0mvocab_size\u001b[0m\u001b[0;34m,\u001b[0m \u001b[0membedding_dim\u001b[0m\u001b[0;34m)\u001b[0m\u001b[0;34m\u001b[0m\u001b[0;34m\u001b[0m\u001b[0m\n\u001b[1;32m      5\u001b[0m     self.gru = tf.keras.layers.GRU(rnn_units,\n",
            "\u001b[0;32m/usr/local/lib/python3.10/dist-packages/keras/src/models/model.py\u001b[0m in \u001b[0;36m__init__\u001b[0;34m(self, *args, **kwargs)\u001b[0m\n\u001b[1;32m    154\u001b[0m             \u001b[0mfunctional\u001b[0m\u001b[0;34m.\u001b[0m\u001b[0mFunctional\u001b[0m\u001b[0;34m.\u001b[0m\u001b[0m__init__\u001b[0m\u001b[0;34m(\u001b[0m\u001b[0mself\u001b[0m\u001b[0;34m,\u001b[0m \u001b[0;34m*\u001b[0m\u001b[0margs\u001b[0m\u001b[0;34m,\u001b[0m \u001b[0;34m**\u001b[0m\u001b[0mkwargs\u001b[0m\u001b[0;34m)\u001b[0m\u001b[0;34m\u001b[0m\u001b[0;34m\u001b[0m\u001b[0m\n\u001b[1;32m    155\u001b[0m         \u001b[0;32melse\u001b[0m\u001b[0;34m:\u001b[0m\u001b[0;34m\u001b[0m\u001b[0;34m\u001b[0m\u001b[0m\n\u001b[0;32m--> 156\u001b[0;31m             \u001b[0mLayer\u001b[0m\u001b[0;34m.\u001b[0m\u001b[0m__init__\u001b[0m\u001b[0;34m(\u001b[0m\u001b[0mself\u001b[0m\u001b[0;34m,\u001b[0m \u001b[0;34m*\u001b[0m\u001b[0margs\u001b[0m\u001b[0;34m,\u001b[0m \u001b[0;34m**\u001b[0m\u001b[0mkwargs\u001b[0m\u001b[0;34m)\u001b[0m\u001b[0;34m\u001b[0m\u001b[0;34m\u001b[0m\u001b[0m\n\u001b[0m\u001b[1;32m    157\u001b[0m \u001b[0;34m\u001b[0m\u001b[0m\n\u001b[1;32m    158\u001b[0m     \u001b[0;32mdef\u001b[0m \u001b[0mcall\u001b[0m\u001b[0;34m(\u001b[0m\u001b[0mself\u001b[0m\u001b[0;34m,\u001b[0m \u001b[0;34m*\u001b[0m\u001b[0margs\u001b[0m\u001b[0;34m,\u001b[0m \u001b[0;34m**\u001b[0m\u001b[0mkwargs\u001b[0m\u001b[0;34m)\u001b[0m\u001b[0;34m:\u001b[0m\u001b[0;34m\u001b[0m\u001b[0;34m\u001b[0m\u001b[0m\n",
            "\u001b[0;31mTypeError\u001b[0m: Layer.__init__() takes 1 positional argument but 2 were given"
          ]
        }
      ]
    },
    {
      "cell_type": "markdown",
      "source": [
        "# **Tugas**\n",
        "Prosedur pelatihan pada praktikum 2 merupakan prosedur sederhana, yang tidak memberi Anda banyak kendali. Model ini menggunakan \"teacher-forcing\" yang mencegah prediksi buruk diumpankan kembali ke model, sehingga model tidak pernah belajar untuk pulih dari kesalahan. Jadi, setelah Anda melihat cara menjalankan model secara manual, selanjutnya Anda akan mengimplementasikan custom loop pelatihan. Hal ini memberikan titik awal jika, misalnya, Anda ingin menerapkan pembelajaran kurikulum untuk membantu menstabilkan keluaran open-loop model. Bagian terpenting dari loop pelatihan khusus adalah fungsi langkah pelatihan.\n",
        "\n",
        "Gunakan tf.GradientTape untuk men track nilai gradient. Anda dapat mempelajari lebih lanjut tentang pendekatan ini dengan membaca eager execution guide.\n",
        "\n",
        "Prosedurnya adalah :\n",
        "\n",
        "1. Jalankan Model dan hitung loss dengan tf.GradientTape.\n",
        "\n",
        "2. Hitung update dan terapkan pada model dengan optimizer"
      ],
      "metadata": {
        "id": "J6NtQXHtEY95"
      }
    },
    {
      "cell_type": "code",
      "source": [
        "class CustomTraining(MyModel):\n",
        "  @tf.function\n",
        "  def train_step(self, inputs):\n",
        "    inputs, labels = inputs\n",
        "    with tf.GradientTape() as tape:\n",
        "      predictions = self(inputs, training=True)\n",
        "      loss = self.loss(labels, predictions)\n",
        "    grads = tape.gradient(loss, model.trainable_variables)\n",
        "    self.optimizer.apply_gradients(zip(grads, model.trainable_variables))\n",
        "\n",
        "    return {'loss': loss}"
      ],
      "metadata": {
        "id": "OqxzxIl3EfwQ"
      },
      "execution_count": null,
      "outputs": []
    },
    {
      "cell_type": "markdown",
      "source": [
        "Kode diatas menerapkan train_step method sesuai dengan  Keras' train_step conventions. Ini opsional, tetapi memungkinkan Anda mengubah perilaku langkah pelatihan dan tetap menggunakan keras Model.compile and Model.fit methods."
      ],
      "metadata": {
        "id": "t89kn4aiEjg2"
      }
    },
    {
      "cell_type": "code",
      "source": [
        "model = CustomTraining(\n",
        "    vocab_size=len(ids_from_chars.get_vocabulary()),\n",
        "    embedding_dim=embedding_dim,\n",
        "    rnn_units=rnn_units)"
      ],
      "metadata": {
        "id": "14-wSo_1EnQA"
      },
      "execution_count": null,
      "outputs": []
    },
    {
      "cell_type": "code",
      "source": [
        "model.compile(optimizer = tf.keras.optimizers.Adam(),\n",
        "              loss=tf.keras.losses.SparseCategoricalCrossentropy(from_logits=True))"
      ],
      "metadata": {
        "id": "BAf-32-VEriN"
      },
      "execution_count": null,
      "outputs": []
    },
    {
      "cell_type": "code",
      "source": [
        "model.fit(dataset, epochs=1)"
      ],
      "metadata": {
        "id": "0_7EJZWpEvWm"
      },
      "execution_count": null,
      "outputs": []
    },
    {
      "cell_type": "markdown",
      "source": [
        "Atau jika ingin lebih mengetahui dalamnya, kita bisa membuat custom training loop sendiri:"
      ],
      "metadata": {
        "id": "zacXqZKgEzsf"
      }
    },
    {
      "cell_type": "code",
      "source": [
        "EPOCHS = 10\n",
        "\n",
        "mean = tf.metrics.Mean()\n",
        "\n",
        "for epoch in range(EPOCHS):\n",
        "    start = time.time()\n",
        "\n",
        "    mean.reset_states()\n",
        "    for (batch_n, (inp, target)) in enumerate(dataset):\n",
        "        logs = model.train_step([inp, target])\n",
        "        mean.update_state(logs['loss'])\n",
        "\n",
        "        if batch_n % 50 == 0:\n",
        "            template = f\"Epoch {epoch+1} Batch {batch_n} Loss {logs['loss']:.4f}\"\n",
        "            print(template)\n",
        "\n",
        "    # saving (checkpoint) the model every 5 epochs\n",
        "    if (epoch + 1) % 5 == 0:\n",
        "        model.save_weights(checkpoint_prefix.format(epoch=epoch))\n",
        "\n",
        "    print()\n",
        "    print(f'Epoch {epoch+1} Loss: {mean.result().numpy():.4f}')\n",
        "    print(f'Time taken for 1 epoch {time.time() - start:.2f} sec')\n",
        "    print(\"_\"*80)"
      ],
      "metadata": {
        "id": "VCcXtmsME08Y"
      },
      "execution_count": null,
      "outputs": []
    },
    {
      "cell_type": "markdown",
      "source": [
        "Jalankan kode diatas dan sebutkan perbedaanya dengan praktikum 2?\n",
        "\n",
        "**Jawab:**\n",
        "\n",
        "\n",
        "Perbedaan utama antara tugas dan praktikum 2 terletak pada train yang digunakan. Praktikum 2 menggunakan train yang lebih umum dan sederhana dengan model.fit, sedangkan kode tuga menggunakan train yang khusus dan kompleks. Dalam pendekatan ini, ada penggunaan metode train_step dalam model turunan yang mengatur train pada tingkat batch. Ini melibatkan perhitungan loss, perhitungan gradien, peningkatan bobot model, dan pemanfaatan tf.metrics.Mean untuk menghitung rata-rata loss selama proses train. Dengan pendekatan ini, terdapat tingkat kontrol yang lebih besar dan fleksibilitas dalam mengatur proses train model."
      ],
      "metadata": {
        "id": "QhjYQXUpE-Hc"
      }
    }
  ],
  "metadata": {
    "kernelspec": {
      "display_name": "Python 3",
      "name": "python3"
    },
    "language_info": {
      "codemirror_mode": {
        "name": "ipython",
        "version": 3
      },
      "file_extension": ".py",
      "mimetype": "text/x-python",
      "name": "python",
      "nbconvert_exporter": "python",
      "pygments_lexer": "ipython3",
      "version": "3.12.4"
    },
    "colab": {
      "provenance": [],
      "gpuType": "T4"
    },
    "accelerator": "GPU"
  },
  "nbformat": 4,
  "nbformat_minor": 0
}